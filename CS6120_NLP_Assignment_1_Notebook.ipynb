{
 "cells": [
  {
   "cell_type": "markdown",
   "id": "bc97d6da",
   "metadata": {
    "id": "bc97d6da"
   },
   "source": [
    "## CS 6120: Natural Language Processing - Prof. Ahmad Uzair\n",
    "\n",
    "### Assignment 1: Naive Bayes\n",
    "### Total Points: 100 points\n",
    "\n",
    "You will be dealing with movie review data that includes both positive and negative reviews in this assignment. You will use Sentiment Analysis to assess if a given review is positive or negative using the provided dataset.\n",
    "\n",
    "Therefore, we will make use of Naive Bayes algorithm to perform sentiment analysis on the movie review dataset.\n",
    "\n",
    "## Importing the Libraries"
   ]
  },
  {
   "cell_type": "code",
   "execution_count": 1,
   "id": "a03450ac",
   "metadata": {
    "id": "a03450ac"
   },
   "outputs": [
    {
     "name": "stderr",
     "output_type": "stream",
     "text": [
      "[nltk_data] Downloading package punkt to /Users/neo/nltk_data...\n",
      "[nltk_data]   Package punkt is already up-to-date!\n",
      "[nltk_data] Downloading package wordnet to /Users/neo/nltk_data...\n",
      "[nltk_data]   Package wordnet is already up-to-date!\n",
      "[nltk_data] Downloading package stopwords to /Users/neo/nltk_data...\n",
      "[nltk_data]   Package stopwords is already up-to-date!\n",
      "[nltk_data] Downloading package omw-1.4 to /Users/neo/nltk_data...\n",
      "[nltk_data]   Package omw-1.4 is already up-to-date!\n"
     ]
    }
   ],
   "source": [
    "import numpy as np\n",
    "import math\n",
    "import pandas as pd\n",
    "import re\n",
    "import string\n",
    "import nltk\n",
    "from nltk.corpus import stopwords\n",
    "from nltk.stem import PorterStemmer\n",
    "from nltk.stem import SnowballStemmer\n",
    "from nltk.tokenize import word_tokenize\n",
    "from sklearn import preprocessing\n",
    "from bs4 import BeautifulSoup\n",
    "from sklearn.model_selection import train_test_split\n",
    "import joblib\n",
    "import warnings\n",
    "import seaborn as sns\n",
    "import matplotlib.pyplot as plt\n",
    "import pickle\n",
    "nltk.download('punkt')\n",
    "nltk.download('wordnet')\n",
    "nltk.download(\"stopwords\")\n",
    "nltk.download('omw-1.4')\n",
    "\n",
    "warnings.filterwarnings(\"ignore\")"
   ]
  },
  {
   "cell_type": "markdown",
   "id": "fc584cc2",
   "metadata": {
    "id": "fc584cc2"
   },
   "source": [
    "## Reading the data\n",
    "\n",
    "When reading the data, ensure that the '.csv' file is in the same location where your jupyter notebook is used. This way the files are organized and easy to read using the pandas library. "
   ]
  },
  {
   "cell_type": "code",
   "execution_count": 2,
   "id": "3c9ffbf5",
   "metadata": {
    "id": "3c9ffbf5"
   },
   "outputs": [],
   "source": [
    "warnings.filterwarnings(\"ignore\")\n",
    "## Reading the data and removing columns that are not important. \n",
    "df = pd.read_csv(\"/Users/neo/CS6120/nlp-assignments/assignment1/movie_reviews-1.csv\", sep = ',', encoding = 'latin-1', usecols = lambda col: col not in [\"Unnamed: 2\", \"Unnamed: 3\", \"Unnamed: 4\"])"
   ]
  },
  {
   "cell_type": "code",
   "execution_count": 3,
   "id": "f7fa8ac0",
   "metadata": {
    "colab": {
     "base_uri": "https://localhost:8080/",
     "height": 206
    },
    "id": "f7fa8ac0",
    "outputId": "69edaf28-1e2e-4ec7-9530-b30a2853ab9e"
   },
   "outputs": [
    {
     "data": {
      "text/html": [
       "<div>\n",
       "<style scoped>\n",
       "    .dataframe tbody tr th:only-of-type {\n",
       "        vertical-align: middle;\n",
       "    }\n",
       "\n",
       "    .dataframe tbody tr th {\n",
       "        vertical-align: top;\n",
       "    }\n",
       "\n",
       "    .dataframe thead th {\n",
       "        text-align: right;\n",
       "    }\n",
       "</style>\n",
       "<table border=\"1\" class=\"dataframe\">\n",
       "  <thead>\n",
       "    <tr style=\"text-align: right;\">\n",
       "      <th></th>\n",
       "      <th>review</th>\n",
       "      <th>sentiment</th>\n",
       "    </tr>\n",
       "  </thead>\n",
       "  <tbody>\n",
       "    <tr>\n",
       "      <th>0</th>\n",
       "      <td>One of the other reviewers has mentioned that ...</td>\n",
       "      <td>positive</td>\n",
       "    </tr>\n",
       "    <tr>\n",
       "      <th>1</th>\n",
       "      <td>A wonderful little production. &lt;br /&gt;&lt;br /&gt;The...</td>\n",
       "      <td>positive</td>\n",
       "    </tr>\n",
       "    <tr>\n",
       "      <th>2</th>\n",
       "      <td>I thought this was a wonderful way to spend ti...</td>\n",
       "      <td>positive</td>\n",
       "    </tr>\n",
       "    <tr>\n",
       "      <th>3</th>\n",
       "      <td>Petter Mattei's \"Love in the Time of Money\" is...</td>\n",
       "      <td>positive</td>\n",
       "    </tr>\n",
       "    <tr>\n",
       "      <th>4</th>\n",
       "      <td>Probably my all-time favorite movie, a story o...</td>\n",
       "      <td>positive</td>\n",
       "    </tr>\n",
       "  </tbody>\n",
       "</table>\n",
       "</div>"
      ],
      "text/plain": [
       "                                              review sentiment\n",
       "0  One of the other reviewers has mentioned that ...  positive\n",
       "1  A wonderful little production. <br /><br />The...  positive\n",
       "2  I thought this was a wonderful way to spend ti...  positive\n",
       "3  Petter Mattei's \"Love in the Time of Money\" is...  positive\n",
       "4  Probably my all-time favorite movie, a story o...  positive"
      ]
     },
     "execution_count": 3,
     "metadata": {},
     "output_type": "execute_result"
    }
   ],
   "source": [
    "None  # print head of data frame with help of head function\n",
    "df.head()"
   ]
  },
  {
   "cell_type": "markdown",
   "id": "1749da04",
   "metadata": {
    "id": "1749da04"
   },
   "source": [
    "## Count plot of the output categories: positive or negative\n",
    "\n",
    "Feel free to take a look at the output and whether the classes are balanced or imbalanced. "
   ]
  },
  {
   "cell_type": "code",
   "execution_count": 4,
   "id": "c152e8a4",
   "metadata": {
    "colab": {
     "base_uri": "https://localhost:8080/",
     "height": 515
    },
    "id": "c152e8a4",
    "outputId": "a2ba0476-3238-4511-fcf0-780508493f48",
    "scrolled": true
   },
   "outputs": [
    {
     "data": {
      "image/png": "[encoded data removed]",
      "text/plain": [
       "<Figure size 360x360 with 1 Axes>"
      ]
     },
     "metadata": {
      "needs_background": "light"
     },
     "output_type": "display_data"
    }
   ],
   "source": [
    "plt.figure(figsize = (5,5))\n",
    " \n",
    "sns.countplot(x ='sentiment', data = df)\n",
    "plt.title(\"Positive Vs. Negative reviews count\", fontsize = 16)\n",
    "plt.show()\n"
   ]
  },
  {
   "cell_type": "markdown",
   "id": "9b8549f2",
   "metadata": {
    "id": "9b8549f2"
   },
   "source": [
    "## Upsampling the minority class: (5 points)\n",
    "\n",
    "It is known that Naive bayes is not robust to class imbalance. It could be seen above that the data is little imbalanced. Therefore, class balancing can be done before giving it to the Naive Bayes model for prediction. \n",
    "\n",
    "Feel free to use 'resample' library from sklearn. "
   ]
  },
  {
   "cell_type": "code",
   "execution_count": 5,
   "id": "yHJTAqrW7XMN",
   "metadata": {
    "id": "yHJTAqrW7XMN"
   },
   "outputs": [],
   "source": [
    "## hint: use resample from sklearn.utils\n",
    "from sklearn.utils import resample\n",
    "\n",
    "df_majority = df[df['sentiment'] == 'positive']\n",
    "df_minority = df[df['sentiment'] == 'negative']\n",
    "\n",
    "negative_upsample = resample(df_minority, replace = True, \n",
    "                        n_samples = df_majority.shape[0],\n",
    "                        random_state = 101)\n",
    "\n",
    "df_upsampled = pd.concat([negative_upsample, df_majority])  # concat two data frames i,e majority class data set and upsampled minority class data set\n",
    "df_upsampled = df_upsampled.sample(frac = 1)"
   ]
  },
  {
   "cell_type": "code",
   "execution_count": 6,
   "id": "6a9329bb",
   "metadata": {
    "id": "6a9329bb"
   },
   "outputs": [
    {
     "name": "stdout",
     "output_type": "stream",
     "text": [
      "(12474, 2)\n"
     ]
    }
   ],
   "source": [
    "## Just to ensure that upsampling was done successfully, take a look at the shape of the data in \n",
    "## this cell. \n",
    "\n",
    "# print the shape of data set with the help of shape function having \"negative\" as class label\n",
    "print(negative_upsample.shape)"
   ]
  },
  {
   "cell_type": "markdown",
   "id": "6f8bf6e7",
   "metadata": {
    "id": "6f8bf6e7"
   },
   "source": [
    "### Expected Output : \n",
    "(12474, 2)"
   ]
  },
  {
   "cell_type": "code",
   "execution_count": 7,
   "id": "bdea8155",
   "metadata": {
    "colab": {
     "base_uri": "https://localhost:8080/"
    },
    "id": "bdea8155",
    "outputId": "c665c4b9-826e-4f4e-e30e-06e0935a0622"
   },
   "outputs": [
    {
     "name": "stdout",
     "output_type": "stream",
     "text": [
      "(12474, 2)\n"
     ]
    }
   ],
   "source": [
    "## Ensure that the same number of data points are present for both 'positive' and 'negative' data\n",
    "\n",
    "# print the shape of data set with the help of shape function having \"positive\" as class label\n",
    "print(df_majority.shape)"
   ]
  },
  {
   "cell_type": "markdown",
   "id": "626f01d5",
   "metadata": {
    "id": "626f01d5"
   },
   "source": [
    "### Expected Output : \n",
    "(12474, 2)"
   ]
  },
  {
   "cell_type": "code",
   "execution_count": 8,
   "id": "NoW5z6SzAeP8",
   "metadata": {
    "id": "NoW5z6SzAeP8"
   },
   "outputs": [],
   "source": [
    "## In this cell, we are going to be dividing the data into train and test points\n",
    "## Ensure that you store the upsampled data in a variable called 'df_upsampled' \n",
    "## so that the below operations are performed successfully\n",
    "\n",
    "\n",
    "## Considering 10000 positive and 10000 negative data points\n",
    "negative_data_points_train = df_upsampled[df_upsampled['sentiment'] == 'negative'].iloc[0:10000, :]\n",
    "positive_data_points_train = df_upsampled[df_upsampled['sentiment'] == 'positive'].iloc[0:10000, :]\n",
    "## Considering the remaining data points for test\n",
    "negative_data_points_test = df_upsampled[df_upsampled['sentiment'] == 'negative'].iloc[10000:30000, :]\n",
    "positive_data_points_test = df_upsampled[df_upsampled['sentiment'] == 'positive'].iloc[10000:30000, :]\n",
    "## Concatenate the training positive and negative reviews\n",
    "X_train = pd.concat([negative_data_points_train, positive_data_points_train])\n",
    "## Concatenating the training positive and negative outputs\n",
    "y_train = pd.concat([negative_data_points_train, positive_data_points_train])\n",
    "\n",
    "## Concatenating the test positive and negative reviews\n",
    "X_test = pd.concat([negative_data_points_test, positive_data_points_test])\n",
    "## Concatenating the test positive and negative outputs\n",
    "y_test = pd.concat([negative_data_points_test, positive_data_points_test])"
   ]
  },
  {
   "cell_type": "code",
   "execution_count": 9,
   "id": "6428047d",
   "metadata": {
    "colab": {
     "base_uri": "https://localhost:8080/"
    },
    "id": "6428047d",
    "outputId": "10d10601-0ce0-4688-c4d3-75fa386583fd"
   },
   "outputs": [
    {
     "data": {
      "text/plain": [
       "negative    10000\n",
       "positive    10000\n",
       "Name: sentiment, dtype: int64"
      ]
     },
     "execution_count": 9,
     "metadata": {},
     "output_type": "execute_result"
    }
   ],
   "source": [
    "## Take a look at the total number of classes and their count using '.value_counts()' for y_train and y_test.\n",
    "## Ensure that there are equal number of positive and negative reviews. \n",
    "X_train['sentiment'].value_counts()\n",
    "y_train['sentiment'].value_counts()"
   ]
  },
  {
   "cell_type": "markdown",
   "id": "7dfe6517",
   "metadata": {
    "id": "7dfe6517"
   },
   "source": [
    "### Expected Output:\n",
    "negative    10000<br>\n",
    "positive    10000<br>\n",
    "Name: sentiment, dtype: int64"
   ]
  },
  {
   "cell_type": "code",
   "execution_count": 10,
   "id": "2beae1d6",
   "metadata": {
    "colab": {
     "base_uri": "https://localhost:8080/"
    },
    "id": "2beae1d6",
    "outputId": "6896f930-6a1a-45db-b74c-d080c9aedd0c"
   },
   "outputs": [
    {
     "data": {
      "text/plain": [
       "negative    2474\n",
       "positive    2474\n",
       "Name: sentiment, dtype: int64"
      ]
     },
     "execution_count": 10,
     "metadata": {},
     "output_type": "execute_result"
    }
   ],
   "source": [
    "X_test['sentiment'].value_counts()\n",
    "y_test['sentiment'].value_counts()\n"
   ]
  },
  {
   "cell_type": "markdown",
   "id": "9163f897",
   "metadata": {
    "id": "9163f897"
   },
   "source": [
    "### Expected Output : \n",
    "negative    2474<br>\n",
    "positive    2474<br>\n",
    "Name: sentiment, dtype: int64"
   ]
  },
  {
   "cell_type": "markdown",
   "id": "6501699b",
   "metadata": {
    "id": "6501699b"
   },
   "source": [
    "## Q1. Pre-process the reviews: (10 points)\n",
    "\n",
    "We know that a review contains links, punctuation, stopwords and many other words that don't give a lot of meaning for the Naive Bayes model for prediction. \n",
    "\n",
    "In the cell below, one must implement text-preprocessing and remove links, punctuations and stopwords. It is also important to lowercase the letters so that 'Admire' and 'admire' are not treated as different words. \n",
    "\n",
    "In addition to this, perform stemming operation so that similar words are reduced. To know more about stemming, feel free to take a look at this link.\n",
    "\n",
    "https://nlp.stanford.edu/IR-book/html/htmledition/stemming-and-lemmatization-1.html"
   ]
  },
  {
   "cell_type": "code",
   "execution_count": 11,
   "id": "CirLN9-ddQ1r",
   "metadata": {
    "id": "CirLN9-ddQ1r"
   },
   "outputs": [],
   "source": [
    "# TASK CELL\n",
    "# used stemming operation for text-preprocessing\n",
    "snowball = SnowballStemmer(language='english')\n",
    "def clean_review(review):\n",
    "    no_html = BeautifulSoup(review).get_text()\n",
    "    clean = re.sub(\"[^a-z\\s]+\", \" \", no_html, flags=re.IGNORECASE)\n",
    "    clean = re.sub(\"(\\s+)\", \" \", clean)\n",
    "    clean = clean.lower()\n",
    "    stopwords_en = stopwords.words(\"english\")\n",
    "    cleaned_stopwords = [w for w in re.split(\"\\W+\", clean) if not w in stopwords_en]\n",
    "    stemmed_words = []\n",
    "    for w in cleaned_stopwords:\n",
    "        stemmed_words.append(snowball.stem(w))\n",
    "    return stemmed_words"
   ]
  },
  {
   "cell_type": "markdown",
   "id": "a7632fe5",
   "metadata": {
    "id": "a7632fe5"
   },
   "source": [
    "## Q2. Implement a find_occurrence function (5 points):\n",
    "\n",
    "In this function, we find the total occurrence of a word giving information such as label, word and frequency dictionary.\n",
    "\n",
    "Note that this function is used later in the code when we are going to be predicting the output using Naive Bayes. "
   ]
  },
  {
   "cell_type": "code",
   "execution_count": 12,
   "id": "eb282b81",
   "metadata": {
    "id": "eb282b81"
   },
   "outputs": [],
   "source": [
    "# TASK CELL\n",
    "def find_occurrence(frequency, word, label):\n",
    "    '''\n",
    "    Params:\n",
    "        frequency: a dictionary with the frequency of each pair (or tuple)\n",
    "        word: the word to look up\n",
    "        label: the label corresponding to the word\n",
    "    Return:\n",
    "        n: the number of times the word with its corresponding label appears.\n",
    "    '''\n",
    "    number_of_occurences = 0\n",
    "    for k, n in frequency.items():\n",
    "        if ((k[0] == word) and (k[1] == label)):\n",
    "            return n\n",
    "            \n",
    "    return 0"
   ]
  },
  {
   "cell_type": "markdown",
   "id": "29a2249d",
   "metadata": {
    "id": "29a2249d"
   },
   "source": [
    "### Converting output to numerical format:\n",
    "\n",
    "We have outputs as 'positive' or 'negative'. In the cell below, we convert it to a numerical format. "
   ]
  },
  {
   "cell_type": "code",
   "execution_count": 13,
   "id": "bcdc2b2c",
   "metadata": {
    "id": "bcdc2b2c"
   },
   "outputs": [],
   "source": [
    "## With the use of mapping function, we replace\n",
    "## the label in the form of string to an integer. \n",
    "\n",
    "output_map = {'positive': 0, 'negative': 1}\n",
    "y_train['sentiment'] = y_train['sentiment'].map(output_map)\n",
    "y_test['sentiment'] = y_test['sentiment'].map(output_map)"
   ]
  },
  {
   "cell_type": "code",
   "execution_count": 14,
   "id": "3dde0bbd",
   "metadata": {
    "colab": {
     "base_uri": "https://localhost:8080/"
    },
    "id": "3dde0bbd",
    "outputId": "223dfbc1-8efe-4183-b6d7-c9cb025cb285"
   },
   "outputs": [
    {
     "data": {
      "text/plain": [
       "1    10000\n",
       "0    10000\n",
       "Name: sentiment, dtype: int64"
      ]
     },
     "execution_count": 14,
     "metadata": {},
     "output_type": "execute_result"
    }
   ],
   "source": [
    "## Ensuring that there are equal number of classes on the training data. \n",
    "y_train['sentiment'].value_counts()"
   ]
  },
  {
   "cell_type": "code",
   "execution_count": 15,
   "id": "f2959b85",
   "metadata": {
    "colab": {
     "base_uri": "https://localhost:8080/",
     "height": 178
    },
    "id": "f2959b85",
    "outputId": "e514214b-cd57-43fc-875d-1821ddab63f8"
   },
   "outputs": [
    {
     "data": {
      "text/plain": [
       "\"Horror/Sci-Fi that is interesting as it is laughable. F/X pretty good...for what you manage to see. A made for TV thriller that is not as bad as the worst of them. Jeffrey Coombs plays a brilliant although misguided scientist that tampers with stem cell research and manipulates human DNA with that of a hammerhead shark. The horrifying results give birth to one hell of a killing machine. A group of scientists led by William Forsythe and Hunter Tylo are invited to a remote island to check out the brilliant new experiment. Of course, after laughing and stammering in awe...Coombs' creation, by the way is his own son fused with a hammerhead, is let loose to hunt down one by one his father's colleagues. Revenge is not always rewarding. Also in the cast: Elsie Muller, G.R. Johnson, Arthur Roberts and Velizar Binev.\""
      ]
     },
     "execution_count": 15,
     "metadata": {},
     "output_type": "execute_result"
    }
   ],
   "source": [
    "## Choosing a random review and taking a look at it.\n",
    "X_train.iloc[0]['review']"
   ]
  },
  {
   "cell_type": "markdown",
   "id": "ed5e43c9",
   "metadata": {
    "id": "ed5e43c9"
   },
   "source": [
    "From the above cell output, it could be seen that there are a lot of words that don't add a lot of meaning to the text. \n",
    "\n",
    "Therefore, those words would be removed. It also reduces the computation time. \n",
    "\n",
    "Therefore, it is a good practice we are following."
   ]
  },
  {
   "cell_type": "code",
   "execution_count": 16,
   "id": "ad3937ea",
   "metadata": {
    "colab": {
     "base_uri": "https://localhost:8080/"
    },
    "id": "ad3937ea",
    "outputId": "68985efe-32cd-4c11-ed5b-2e1e1b297e73"
   },
   "outputs": [
    {
     "name": "stdout",
     "output_type": "stream",
     "text": [
      "['horror', 'sci', 'fi', 'interest', 'laughabl', 'f', 'x', 'pretti', 'good', 'manag', 'see', 'made', 'tv', 'thriller', 'bad', 'worst', 'jeffrey', 'coomb', 'play', 'brilliant', 'although', 'misguid', 'scientist', 'tamper', 'stem', 'cell', 'research', 'manipul', 'human', 'dna', 'hammerhead', 'shark', 'horrifi', 'result', 'give', 'birth', 'one', 'hell', 'kill', 'machin', 'group', 'scientist', 'led', 'william', 'forsyth', 'hunter', 'tylo', 'invit', 'remot', 'island', 'check', 'brilliant', 'new', 'experi', 'cours', 'laugh', 'stammer', 'awe', 'coomb', 'creation', 'way', 'son', 'fuse', 'hammerhead', 'let', 'loos', 'hunt', 'one', 'one', 'father', 'colleagu', 'reveng', 'alway', 'reward', 'also', 'cast', 'elsi', 'muller', 'g', 'r', 'johnson', 'arthur', 'robert', 'velizar', 'binev', '']\n"
     ]
    }
   ],
   "source": [
    "custom_review = X_train.iloc[0]['review']\n",
    "\n",
    "# print cleaned review\n",
    "print(clean_review(custom_review))"
   ]
  },
  {
   "cell_type": "markdown",
   "id": "3e6cc440",
   "metadata": {
    "id": "3e6cc440"
   },
   "source": [
    "We now use this function to pre-process the review and remove words that don't add a lot of meaning in our model. "
   ]
  },
  {
   "cell_type": "markdown",
   "id": "5a762960",
   "metadata": {
    "id": "5a762960"
   },
   "source": [
    "## Q3. Implementing review counter function: (5 points)\n",
    "\n",
    "It is now time to implement the count function for the reviews. \n",
    "\n",
    "In this function, we count the occurrence of words and get the probabilities \n",
    "for the words based on the training data. \n",
    "\n",
    "In other words, we get the probability of occurrence of a word, given that the output is 'positive'.\n",
    "\n",
    "Similarly, we also compute the probability of occurence of a word, given that the output is 'negative'.\n",
    "\n"
   ]
  },
  {
   "cell_type": "code",
   "execution_count": 17,
   "id": "5de61f77",
   "metadata": {
    "id": "5de61f77"
   },
   "outputs": [],
   "source": [
    "# TASK CELL\n",
    "def review_counter(output_occurrence, reviews, positive_or_negative):\n",
    "    '''\n",
    "    Params:\n",
    "        output_occurrence: a dictionary that will be used to map each pair to its frequency\n",
    "        reviews: a list of reviews\n",
    "        positive_or_negative: a list corresponding to the sentiment of each review (either 0 or 1)\n",
    "    Return:\n",
    "        output: a dictionary mapping each pair to its frequency\n",
    "    '''\n",
    "    ## Steps :\n",
    "    # define the key, which is the word and label tuple\n",
    "    # if the key exists in the dictionary, increment the count\n",
    "    # else, if the key is new, add it to the dictionary and set the count to 1\n",
    "    \n",
    "    for label, review in zip(positive_or_negative, reviews):\n",
    "        split_review = clean_review(review)\n",
    "        for word in split_review:\n",
    "          # Your code here\n",
    "            target_tuple = (word, label)\n",
    "            if (output_occurrence.get(target_tuple) != None):  \n",
    "                output_occurrence[target_tuple] = output_occurrence[target_tuple]  + 1 \n",
    "            else :\n",
    "                output_occurrence[target_tuple] = 1\n",
    "   \n",
    "    return output_occurrence"
   ]
  },
  {
   "cell_type": "markdown",
   "id": "18238223",
   "metadata": {
    "id": "18238223"
   },
   "source": [
    "### Test your function with example reviews:\n",
    "\n",
    "Feel free to run the cell below and understand whether the above function that you have defined is producing the optimum results. "
   ]
  },
  {
   "cell_type": "code",
   "execution_count": 18,
   "id": "07a4c58a",
   "metadata": {
    "colab": {
     "base_uri": "https://localhost:8080/"
    },
    "id": "07a4c58a",
    "outputId": "dd9e148a-34a9-4cfe-9077-c5de33493d7a"
   },
   "outputs": [
    {
     "data": {
      "text/plain": [
       "{('got', 1): 1,\n",
       " ('bore', 1): 2,\n",
       " ('throught', 1): 1,\n",
       " ('moview', 1): 1,\n",
       " ('movi', 0): 2,\n",
       " ('fantast', 0): 1,\n",
       " ('watch', 1): 1,\n",
       " ('complet', 1): 1,\n",
       " ('wast', 1): 1,\n",
       " ('time', 1): 1,\n",
       " ('money', 1): 1,\n",
       " ('enjoy', 0): 1,\n",
       " ('fullest', 0): 1}"
      ]
     },
     "execution_count": 18,
     "metadata": {},
     "output_type": "execute_result"
    }
   ],
   "source": [
    "# Testing your function\n",
    "\n",
    "result = {}\n",
    "reviews = ['got bored throught the moview', 'The movie was fantastic', 'Will not watch it again', 'Was bored, it was a complete waste of time and money', 'Enjoyed the movie to the fullest']\n",
    "ys = [1, 0, 1, 1, 0]\n",
    "review_counter(result,reviews, ys)"
   ]
  },
  {
   "cell_type": "markdown",
   "id": "927f89bb",
   "metadata": {
    "id": "927f89bb"
   },
   "source": [
    "### Expected Output:\n",
    " {('bored', 1): 2, <br>\n",
    " ('complete', 1): 1, <br>\n",
    " ('enjoyed', 0): 1, <br>\n",
    " ('fantastic', 0): 1, <br>\n",
    " ('fullest', 0): 1, <br>\n",
    " ('got', 1): 1, <br>\n",
    " ('money', 1): 1, <br>\n",
    " ('movie', 0): 2, <br>\n",
    " ('moview', 1): 1, <br>\n",
    " ('throught', 1): 1, <br>\n",
    " ('time', 1): 1, <br>\n",
    " ('waste', 1): 1, <br>\n",
    " ('watch', 1): 1}"
   ]
  },
  {
   "cell_type": "code",
   "execution_count": 19,
   "id": "9bc62e13",
   "metadata": {
    "id": "9bc62e13"
   },
   "outputs": [],
   "source": [
    "# Build the freqs dictionary for later uses\n",
    "\n",
    "freqs = review_counter({}, X_train['review'], y_train['sentiment'])\n"
   ]
  },
  {
   "cell_type": "code",
   "execution_count": 20,
   "id": "0eddf420",
   "metadata": {
    "id": "0eddf420"
   },
   "outputs": [
    {
     "data": {
      "text/plain": [
       "{('horror', 1): 1723,\n",
       " ('sci', 1): 285,\n",
       " ('fi', 1): 287,\n",
       " ('interest', 1): 1981,\n",
       " ('laughabl', 1): 329,\n",
       " ('f', 1): 217,\n",
       " ('x', 1): 160,\n",
       " ('pretti', 1): 1661,\n",
       " ('good', 1): 5879,\n",
       " ('manag', 1): 580,\n",
       " ('see', 1): 5131,\n",
       " ('made', 1): 3501,\n",
       " ('tv', 1): 1095,\n",
       " ('thriller', 1): 394,\n",
       " ('bad', 1): 6518,\n",
       " ('worst', 1): 1905,\n",
       " ('jeffrey', 1): 40,\n",
       " ('coomb', 1): 2,\n",
       " ('play', 1): 2805,\n",
       " ('brilliant', 1): 223,\n",
       " ('although', 1): 801,\n",
       " ('misguid', 1): 43,\n",
       " ('scientist', 1): 222,\n",
       " ('tamper', 1): 7,\n",
       " ('stem', 1): 20,\n",
       " ('cell', 1): 118,\n",
       " ('research', 1): 149,\n",
       " ('manipul', 1): 69,\n",
       " ('human', 1): 706,\n",
       " ('dna', 1): 10,\n",
       " ('hammerhead', 1): 7,\n",
       " ('shark', 1): 89,\n",
       " ('horrifi', 1): 57,\n",
       " ('result', 1): 448,\n",
       " ('give', 1): 2237,\n",
       " ('birth', 1): 58,\n",
       " ('one', 1): 10831,\n",
       " ('hell', 1): 549,\n",
       " ('kill', 1): 1811,\n",
       " ('machin', 1): 176,\n",
       " ('group', 1): 509,\n",
       " ('led', 1): 120,\n",
       " ('william', 1): 216,\n",
       " ('forsyth', 1): 5,\n",
       " ('hunter', 1): 139,\n",
       " ('tylo', 1): 2,\n",
       " ('invit', 1): 96,\n",
       " ('remot', 1): 203,\n",
       " ('island', 1): 383,\n",
       " ('check', 1): 379,\n",
       " ('new', 1): 1350,\n",
       " ('experi', 1): 552,\n",
       " ('cours', 1): 868,\n",
       " ('laugh', 1): 1409,\n",
       " ('stammer', 1): 6,\n",
       " ('awe', 1): 24,\n",
       " ('creation', 1): 67,\n",
       " ('way', 1): 3393,\n",
       " ('son', 1): 451,\n",
       " ('fuse', 1): 18,\n",
       " ('let', 1): 1333,\n",
       " ('loos', 1): 193,\n",
       " ('hunt', 1): 145,\n",
       " ('father', 1): 651,\n",
       " ('colleagu', 1): 60,\n",
       " ('reveng', 1): 193,\n",
       " ('alway', 1): 928,\n",
       " ('reward', 1): 50,\n",
       " ('also', 1): 2944,\n",
       " ('cast', 1): 1696,\n",
       " ('elsi', 1): 1,\n",
       " ('muller', 1): 4,\n",
       " ('g', 1): 219,\n",
       " ('r', 1): 157,\n",
       " ('johnson', 1): 57,\n",
       " ('arthur', 1): 59,\n",
       " ('robert', 1): 419,\n",
       " ('velizar', 1): 1,\n",
       " ('binev', 1): 1,\n",
       " ('', 1): 9864,\n",
       " ('know', 1): 3209,\n",
       " ('emperor', 1): 70,\n",
       " ('cloth', 1): 210,\n",
       " ('film', 1): 17889,\n",
       " ('like', 1): 9901,\n",
       " ('wall', 1): 184,\n",
       " ('strang', 1): 403,\n",
       " ('suppos', 1): 1249,\n",
       " ('realli', 1): 5035,\n",
       " ('well', 1): 3487,\n",
       " ('think', 1): 3626,\n",
       " ('bunch', 1): 482,\n",
       " ('bologna', 1): 5,\n",
       " ('hide', 1): 173,\n",
       " ('cloak', 1): 10,\n",
       " ('dada', 1): 5,\n",
       " ('surreal', 1): 43,\n",
       " ('make', 1): 6635,\n",
       " ('nut', 1): 61,\n",
       " ('person', 1): 1244,\n",
       " ('dream', 1): 263,\n",
       " ('perhap', 1): 671,\n",
       " ('brought', 1): 255,\n",
       " ('eat', 1): 335,\n",
       " ('aforement', 1): 61,\n",
       " ('right', 1): 1417,\n",
       " ('go', 1): 3969,\n",
       " ('bed', 1): 189,\n",
       " ('rememb', 1): 655,\n",
       " ('unfortun', 1): 814,\n",
       " ('put', 1): 1417,\n",
       " ('marvel', 1): 45,\n",
       " ('creativ', 1): 194,\n",
       " ('genius', 1): 143,\n",
       " ('bizarr', 1): 215,\n",
       " ('sometim', 1): 377,\n",
       " ('absolut', 1): 896,\n",
       " ('sens', 1): 1032,\n",
       " ('feel', 1): 2043,\n",
       " ('need', 1): 1437,\n",
       " ('expos', 1): 91,\n",
       " ('everybodi', 1): 160,\n",
       " ('els', 1): 989,\n",
       " ('call', 1): 1311,\n",
       " ('art', 1): 529,\n",
       " ('weird', 1): 295,\n",
       " ('mean', 1): 1340,\n",
       " ('someth', 1): 2414,\n",
       " ('true', 1): 648,\n",
       " ('surrealist', 1): 11,\n",
       " ('express', 1): 237,\n",
       " ('intent', 1): 293,\n",
       " ('intellectu', 1): 98,\n",
       " ('thought', 1): 1513,\n",
       " ('behind', 1): 485,\n",
       " ('peopl', 1): 3858,\n",
       " ('get', 1): 6075,\n",
       " ('profound', 1): 51,\n",
       " ('incomprehens', 1): 62,\n",
       " ('sake', 1): 138,\n",
       " ('alon', 1): 383,\n",
       " ('great', 1): 2240,\n",
       " ('compar', 1): 398,\n",
       " ('tuvalu', 1): 2,\n",
       " ('delicatesen', 1): 2,\n",
       " ('godfath', 1): 42,\n",
       " ('ii', 1): 118,\n",
       " ('iii', 1): 46,\n",
       " ('genr', 1): 418,\n",
       " ('leagu', 1): 55,\n",
       " ('michael', 1): 437,\n",
       " ('dudikoff', 1): 23,\n",
       " ('star', 1): 1647,\n",
       " ('joe', 1): 199,\n",
       " ('armstrong', 1): 37,\n",
       " ('martial', 1): 95,\n",
       " ('artist', 1): 266,\n",
       " ('fight', 1): 843,\n",
       " ('ninja', 1): 82,\n",
       " ('steal', 1): 247,\n",
       " ('weapon', 1): 147,\n",
       " ('u', 1): 142,\n",
       " ('armi', 1): 175,\n",
       " ('entertain', 1): 1015,\n",
       " ('yet', 1): 907,\n",
       " ('admit', 1): 376,\n",
       " ('brainless', 1): 29,\n",
       " ('action', 1): 1461,\n",
       " ('hamper', 1): 16,\n",
       " ('mani', 1): 2331,\n",
       " ('long', 1): 1391,\n",
       " ('paus', 1): 66,\n",
       " ('without', 1): 1280,\n",
       " ('help', 1): 994,\n",
       " ('high', 1): 1049,\n",
       " ('energi', 1): 114,\n",
       " ('setpiec', 1): 3,\n",
       " ('steve', 1): 226,\n",
       " ('jame', 1): 281,\n",
       " ('perform', 1): 1468,\n",
       " ('movi', 1): 23630,\n",
       " ('seen', 1): 2678,\n",
       " ('sinc', 1): 1067,\n",
       " ('date', 1): 312,\n",
       " ('whole', 1): 1420,\n",
       " ('instead', 1): 1181,\n",
       " ('scare', 1): 330,\n",
       " ('funni', 1): 1797,\n",
       " ('snake', 1): 141,\n",
       " ('would', 1): 5900,\n",
       " ('search', 1): 172,\n",
       " ('particular', 1): 684,\n",
       " ('section', 1): 94,\n",
       " ('passeng', 1): 57,\n",
       " ('bodi', 1): 619,\n",
       " ('attack', 1): 425,\n",
       " ('exampl', 1): 691,\n",
       " ('eye', 1): 748,\n",
       " ('tongu', 1): 62,\n",
       " ('butt', 1): 79,\n",
       " ('breast', 1): 114,\n",
       " ('nation', 1): 178,\n",
       " ('geograph', 1): 19,\n",
       " ('channel', 1): 268,\n",
       " ('wont', 1): 39,\n",
       " ('stay', 1): 495,\n",
       " ('clinch', 1): 5,\n",
       " ('bite', 1): 81,\n",
       " ('scene', 1): 4669,\n",
       " ('believ', 1): 1598,\n",
       " ('produc', 1): 918,\n",
       " ('studi', 1): 144,\n",
       " ('inform', 1): 206,\n",
       " ('behavior', 1): 117,\n",
       " ('cant', 1): 98,\n",
       " ('wast', 1): 1548,\n",
       " ('money', 1): 1247,\n",
       " ('recommend', 1): 710,\n",
       " ('trust', 1): 150,\n",
       " ('wait', 1): 573,\n",
       " ('dollar', 1): 208,\n",
       " ('theatr', 1): 166,\n",
       " ('rent', 1): 716,\n",
       " ('never', 1): 2727,\n",
       " ('comedi', 1): 1420,\n",
       " ('much', 1): 3929,\n",
       " ('chore', 1): 26,\n",
       " ('sit', 1): 629,\n",
       " ('thru', 1): 45,\n",
       " ('ok', 1): 664,\n",
       " ('mayb', 1): 1141,\n",
       " ('littl', 1): 2336,\n",
       " ('chuckl', 1): 68,\n",
       " ('clark', 1): 92,\n",
       " ('duncan', 1): 20,\n",
       " ('bit', 1): 1173,\n",
       " ('big', 1): 1354,\n",
       " ('black', 1): 869,\n",
       " ('bald', 1): 29,\n",
       " ('gay', 1): 317,\n",
       " ('virgin', 1): 72,\n",
       " ('rest', 1): 807,\n",
       " ('shock', 1): 506,\n",
       " ('un', 1): 107,\n",
       " ('top', 1): 669,\n",
       " ('void', 1): 25,\n",
       " ('skit', 1): 71,\n",
       " ('forev', 1): 124,\n",
       " ('steer', 1): 49,\n",
       " ('clear', 1): 726,\n",
       " ('valu', 1): 515,\n",
       " ('time', 1): 6200,\n",
       " ('dread', 1): 228,\n",
       " ('nightmar', 1): 148,\n",
       " ('weekend', 1): 91,\n",
       " ('ridicul', 1): 712,\n",
       " ('actor', 1): 2858,\n",
       " ('even', 1): 6259,\n",
       " ('less', 1): 797,\n",
       " ('idea', 1): 1349,\n",
       " ('director', 1): 2176,\n",
       " ('imagin', 1): 577,\n",
       " ('decipher', 1): 1,\n",
       " ('plot', 1): 3537,\n",
       " ('stori', 1): 4428,\n",
       " ('special', 1): 999,\n",
       " ('effect', 1): 1645,\n",
       " ('joke', 1): 826,\n",
       " ('sound', 1): 1044,\n",
       " ('terribl', 1): 1385,\n",
       " ('direct', 1): 1685,\n",
       " ('henri', 1): 86,\n",
       " ('sala', 1): 2,\n",
       " ('ever', 1): 2556,\n",
       " ('reason', 1): 1566,\n",
       " ('obvious', 1): 1130,\n",
       " ('comb', 1): 23,\n",
       " ('tlps', 1): 3,\n",
       " ('peterbogdanovichian', 1): 1,\n",
       " ('flaw', 1): 203,\n",
       " ('shall', 1): 45,\n",
       " ('take', 1): 2511,\n",
       " ('look', 1): 4839,\n",
       " ('posit', 1): 392,\n",
       " ('aspect', 1): 281,\n",
       " ('overr', 1): 51,\n",
       " ('celluloid', 1): 76,\n",
       " ('pygmi', 1): 7,\n",
       " ('peter', 1): 292,\n",
       " ('bogdanovich', 1): 12,\n",
       " ('endur', 1): 100,\n",
       " ('entireti', 1): 21,\n",
       " ('fact', 1): 1586,\n",
       " ('place', 1): 1149,\n",
       " ('lame', 1): 511,\n",
       " ('filmographi', 1): 17,\n",
       " ('shown', 1): 342,\n",
       " ('amaz', 1): 362,\n",
       " ('generous', 1): 100,\n",
       " ('lucki', 1): 85,\n",
       " ('boyfriend', 1): 177,\n",
       " ('share', 1): 173,\n",
       " ('cybil', 1): 5,\n",
       " ('shepherd', 1): 24,\n",
       " ('gal', 1): 46,\n",
       " ('fabul', 1): 47,\n",
       " ('male', 1): 376,\n",
       " ('audienc', 1): 1096,\n",
       " ('two', 1): 2576,\n",
       " ('occas', 1): 72,\n",
       " ('brava', 1): 1,\n",
       " ('unquestion', 1): 8,\n",
       " ('highlight', 1): 142,\n",
       " ('cinemat', 1): 178,\n",
       " ('festa', 1): 1,\n",
       " ('del', 1): 40,\n",
       " ('siesta', 1): 1,\n",
       " ('bare', 1): 385,\n",
       " ('stereotyp', 1): 320,\n",
       " ('countri', 1): 305,\n",
       " ('music', 1): 1226,\n",
       " ('doodl', 1): 1,\n",
       " ('background', 1): 246,\n",
       " ('tri', 1): 3052,\n",
       " ('point', 1): 1812,\n",
       " ('set', 1): 1572,\n",
       " ('america', 1): 262,\n",
       " ('deep', 1): 208,\n",
       " ('south', 1): 186,\n",
       " ('bleedin', 1): 1,\n",
       " ('hammer', 1): 65,\n",
       " ('advantag', 1): 40,\n",
       " ('might', 1): 1275,\n",
       " ('ask', 1): 683,\n",
       " ('final', 1): 1129,\n",
       " ('end', 1): 3762,\n",
       " ('monoton', 1): 67,\n",
       " ('ceas', 1): 6,\n",
       " ('massag', 1): 9,\n",
       " ('tire', 1): 291,\n",
       " ('ear', 1): 112,\n",
       " ('drum', 1): 14,\n",
       " ('start', 1): 1761,\n",
       " ('experienc', 1): 103,\n",
       " ('exhilar', 1): 3,\n",
       " ('pure', 1): 272,\n",
       " ('joy', 1): 77,\n",
       " ('women', 1): 797,\n",
       " ('clori', 1): 6,\n",
       " ('leachman', 1): 5,\n",
       " ('hope', 1): 974,\n",
       " ('may', 1): 1147,\n",
       " ('day', 1): 1400,\n",
       " ('snatch', 1): 16,\n",
       " ('younger', 1): 139,\n",
       " ('biographi', 1): 35,\n",
       " ('realiz', 1): 462,\n",
       " ('technic', 1): 229,\n",
       " ('part', 1): 2074,\n",
       " ('win', 1): 282,\n",
       " ('miss', 1): 900,\n",
       " ('chicago', 1): 54,\n",
       " ('beauti', 1): 730,\n",
       " ('pageant', 1): 3,\n",
       " ('provid', 1): 306,\n",
       " ('enough', 1): 1607,\n",
       " ('bribe', 1): 14,\n",
       " ('juri', 1): 20,\n",
       " ('abut', 1): 2,\n",
       " ('huh', 1): 82,\n",
       " ('bio', 1): 18,\n",
       " ('last', 1): 1224,\n",
       " ('shot', 1): 1356,\n",
       " ('white', 1): 545,\n",
       " ('spare', 1): 74,\n",
       " ('us', 1): 1227,\n",
       " ('sight', 1): 133,\n",
       " ('face', 1): 882,\n",
       " ('origin', 1): 1735,\n",
       " ('natur', 1): 450,\n",
       " ('non', 1): 467,\n",
       " ('glori', 1): 45,\n",
       " ('okay', 1): 392,\n",
       " ('ck', 1): 22,\n",
       " ('rule', 1): 158,\n",
       " ('question', 1): 505,\n",
       " ('inept', 1): 132,\n",
       " ('piec', 1): 905,\n",
       " ('cinema', 1): 481,\n",
       " ('gotta', 1): 67,\n",
       " ('buddi', 1): 179,\n",
       " ('come', 1): 2602,\n",
       " ('drink', 1): 232,\n",
       " ('game', 1): 582,\n",
       " ('fun', 1): 816,\n",
       " ('hilari', 1): 342,\n",
       " ('featurett', 1): 13,\n",
       " ('prove', 1): 367,\n",
       " ('anyth', 1): 1522,\n",
       " ('paper', 1): 176,\n",
       " ('plate', 1): 27,\n",
       " ('finger', 1): 86,\n",
       " ('paint', 1): 216,\n",
       " ('awesom', 1): 107,\n",
       " ('charact', 1): 5794,\n",
       " ('actual', 1): 2334,\n",
       " ('walk', 1): 655,\n",
       " ('minut', 1): 2168,\n",
       " ('commentari', 1): 132,\n",
       " ('say', 1): 3285,\n",
       " ('yeah', 1): 253,\n",
       " ('track', 1): 257,\n",
       " ('smooth', 1): 31,\n",
       " ('man', 1): 2030,\n",
       " ('total', 1): 989,\n",
       " ('crap', 1): 702,\n",
       " ('brief', 1): 145,\n",
       " ('moment', 1): 951,\n",
       " ('blond', 1): 186,\n",
       " ('chick', 1): 211,\n",
       " ('disrob', 1): 4,\n",
       " ('nope', 1): 39,\n",
       " ('dialogu', 1): 853,\n",
       " ('legendarili', 1): 2,\n",
       " ('suck', 1): 498,\n",
       " ('sex', 1): 857,\n",
       " ('afor', 1): 5,\n",
       " ('mention', 1): 709,\n",
       " ('modest', 1): 19,\n",
       " ('dress', 1): 258,\n",
       " ('ala', 1): 102,\n",
       " ('cgi', 1): 193,\n",
       " ('dubious', 1): 36,\n",
       " ('honor', 1): 79,\n",
       " ('anachron', 1): 12,\n",
       " ('numer', 1): 128,\n",
       " ('glare', 1): 31,\n",
       " ('act', 1): 4337,\n",
       " ('mediocr', 1): 292,\n",
       " ('ben', 1): 140,\n",
       " ('cross', 1): 209,\n",
       " ('marina', 1): 13,\n",
       " ('sirti', 1): 5,\n",
       " ('name', 1): 1268,\n",
       " ('school', 1): 727,\n",
       " ('capabl', 1): 99,\n",
       " ('kind', 1): 1381,\n",
       " ('mst', 1): 122,\n",
       " ('k', 1): 185,\n",
       " ('thrive', 1): 3,\n",
       " ('head', 1): 933,\n",
       " ('roll', 1): 216,\n",
       " ('allow', 1): 377,\n",
       " ('steam', 1): 49,\n",
       " ('pile', 1): 125,\n",
       " ('air', 1): 298,\n",
       " ('dub', 1): 192,\n",
       " ('english', 1): 361,\n",
       " ('version', 1): 750,\n",
       " ('lensman', 1): 2,\n",
       " ('came', 1): 638,\n",
       " ('known', 1): 363,\n",
       " ('novel', 1): 441,\n",
       " ('substanc', 1): 164,\n",
       " ('hint', 1): 121,\n",
       " ('most', 1): 398,\n",
       " ('rise', 1): 159,\n",
       " ('level', 1): 483,\n",
       " ('kiddi', 1): 19,\n",
       " ('cartoon', 1): 264,\n",
       " ('adapt', 1): 326,\n",
       " ('book', 1): 1305,\n",
       " ('lost', 1): 600,\n",
       " ('lot', 1): 1857,\n",
       " ('sourc', 1): 131,\n",
       " ('lightweight', 1): 5,\n",
       " ('whatev', 1): 376,\n",
       " ('notic', 1): 350,\n",
       " ('detail', 1): 320,\n",
       " ('deriv', 1): 65,\n",
       " ('sloppi', 1): 67,\n",
       " ('poor', 1): 1739,\n",
       " ('dramat', 1): 289,\n",
       " ('otherwis', 1): 344,\n",
       " ('defici', 1): 10,\n",
       " ('open', 1): 858,\n",
       " ('borrow', 1): 77,\n",
       " ('gate', 1): 56,\n",
       " ('war', 1): 645,\n",
       " ('imag', 1): 315,\n",
       " ('hyperspac', 1): 2,\n",
       " ('robot', 1): 128,\n",
       " ('harvest', 1): 39,\n",
       " ('anthropomorph', 1): 2,\n",
       " ('comic', 1): 410,\n",
       " ('relief', 1): 101,\n",
       " ('style', 1): 579,\n",
       " ('merci', 1): 50,\n",
       " ('humor', 1): 557,\n",
       " ('work', 1): 2609,\n",
       " ('serious', 1): 965,\n",
       " ('superior', 1): 119,\n",
       " ('franchis', 1): 94,\n",
       " ('clever', 1): 212,\n",
       " ('eventu', 1): 225,\n",
       " ('deterior', 1): 25,\n",
       " ('jar', 1): 60,\n",
       " ('annoy', 1): 724,\n",
       " ('silli', 1): 556,\n",
       " ('agricultur', 1): 3,\n",
       " ('appar', 1): 619,\n",
       " ('drawn', 1): 134,\n",
       " ('someon', 1): 1211,\n",
       " ('farm', 1): 64,\n",
       " ('drive', 1): 387,\n",
       " ('unharvest', 1): 2,\n",
       " ('middl', 1): 440,\n",
       " ('field', 1): 142,\n",
       " ('dump', 1): 88,\n",
       " ('silag', 1): 2,\n",
       " ('onto', 1): 139,\n",
       " ('crop', 1): 21,\n",
       " ('rather', 1): 1117,\n",
       " ('side', 1): 535,\n",
       " ('alreadi', 1): 616,\n",
       " ('row', 1): 77,\n",
       " ('truck', 1): 114,\n",
       " ('corn', 1): 46,\n",
       " ('maiz', 1): 10,\n",
       " ('pour', 1): 50,\n",
       " ('grain', 1): 14,\n",
       " ('chute', 1): 1,\n",
       " ('land', 1): 289,\n",
       " ('wheat', 1): 3,\n",
       " ('kim', 1): 95,\n",
       " ('fate', 1): 110,\n",
       " ('weight', 1): 66,\n",
       " ('could', 1): 3744,\n",
       " ('fault', 1): 159,\n",
       " ('languag', 1): 181,\n",
       " ('voic', 1): 540,\n",
       " ('draw', 1): 155,\n",
       " ('show', 1): 3419,\n",
       " ('either', 1): 959,\n",
       " ('reaction', 1): 154,\n",
       " ('similar', 1): 366,\n",
       " ('unconvinc', 1): 150,\n",
       " ('henderson', 1): 9,\n",
       " ('chris', 1): 131,\n",
       " ('though', 1): 1703,\n",
       " ('close', 1): 679,\n",
       " ('death', 1): 810,\n",
       " ('spoiler', 1): 450,\n",
       " ('reveal', 1): 251,\n",
       " ('seem', 1): 3428,\n",
       " ('prompt', 1): 49,\n",
       " ('forget', 1): 300,\n",
       " ('sympathi', 1): 96,\n",
       " ('deserv', 1): 440,\n",
       " ('blame', 1): 212,\n",
       " ('case', 1): 705,\n",
       " ('least', 1): 1516,\n",
       " ('sever', 1): 629,\n",
       " ('villain', 1): 376,\n",
       " ('fail', 1): 862,\n",
       " ('accomplish', 1): 69,\n",
       " ('order', 1): 480,\n",
       " ('leader', 1): 116,\n",
       " ('often', 1): 502,\n",
       " ('punish', 1): 82,\n",
       " ('failur', 1): 151,\n",
       " ('miser', 1): 164,\n",
       " ('whether', 1): 324,\n",
       " ('lift', 1): 97,\n",
       " ('earlier', 1): 228,\n",
       " ('possibl', 1): 886,\n",
       " ('space', 1): 403,\n",
       " ('ship', 1): 252,\n",
       " ('crash', 1): 212,\n",
       " ('plung', 1): 18,\n",
       " ('toward', 1): 374,\n",
       " ('ground', 1): 192,\n",
       " ('break', 1): 438,\n",
       " ('fall', 1): 775,\n",
       " ('noth', 1): 2404,\n",
       " ('left', 1): 951,\n",
       " ('compet', 1): 102,\n",
       " ('tough', 1): 157,\n",
       " ('hero', 1): 577,\n",
       " ('shriek', 1): 25,\n",
       " ('incompet', 1): 83,\n",
       " ('damsel', 1): 16,\n",
       " ('distress', 1): 31,\n",
       " ('quick', 1): 383,\n",
       " ('abl', 1): 487,\n",
       " ('shout', 1): 74,\n",
       " ('got', 1): 1513,\n",
       " ('reach', 1): 190,\n",
       " ('gun', 1): 387,\n",
       " ('almost', 1): 1262,\n",
       " ('j', 1): 155,\n",
       " ('bill', 1): 266,\n",
       " ('wolfman', 1): 9,\n",
       " ('jack', 1): 279,\n",
       " ('american', 1): 966,\n",
       " ('graffiti', 1): 33,\n",
       " ('wonder', 1): 1009,\n",
       " ('planet', 1): 183,\n",
       " ('explod', 1): 81,\n",
       " ('explos', 1): 130,\n",
       " ('unimpress', 1): 29,\n",
       " ('appear', 1): 1128,\n",
       " ('owe', 1): 40,\n",
       " ('inspir', 1): 228,\n",
       " ('credit', 1): 571,\n",
       " ('howev', 1): 1394,\n",
       " ('caus', 1): 386,\n",
       " ('complet', 1): 1449,\n",
       " ('unlik', 1): 314,\n",
       " ('primari', 1): 48,\n",
       " ('dialog', 1): 543,\n",
       " ('explan', 1): 183,\n",
       " ('planetari', 1): 5,\n",
       " ('cheesi', 1): 354,\n",
       " ('late', 1): 370,\n",
       " ('video', 1): 845,\n",
       " ('primit', 1): 29,\n",
       " ('influenc', 1): 101,\n",
       " ('tron', 1): 7,\n",
       " ('visibl', 1): 35,\n",
       " ('hand', 1): 880,\n",
       " ('decent', 1): 737,\n",
       " ('emphas', 1): 39,\n",
       " ('away', 1): 1122,\n",
       " ('comput', 1): 269,\n",
       " ('graphic', 1): 155,\n",
       " ('tell', 1): 1204,\n",
       " ('product', 1): 1030,\n",
       " ('shortcom', 1): 40,\n",
       " ('na', 1): 11,\n",
       " ('boy', 1): 726,\n",
       " ('crippl', 1): 22,\n",
       " ('acquir', 1): 40,\n",
       " ('power', 1): 599,\n",
       " ('understand', 1): 875,\n",
       " ('band', 1): 237,\n",
       " ('virtuous', 1): 4,\n",
       " ('companion', 1): 46,\n",
       " ('struggl', 1): 250,\n",
       " ('unredeem', 1): 8,\n",
       " ('evil', 1): 668,\n",
       " ('enemi', 1): 137,\n",
       " ('friend', 1): 1228,\n",
       " ('learn', 1): 471,\n",
       " ('grow', 1): 211,\n",
       " ('young', 1): 1010,\n",
       " ('persist', 1): 20,\n",
       " ('defeat', 1): 81,\n",
       " ('along', 1): 694,\n",
       " ('simpl', 1): 283,\n",
       " ('outlin', 1): 42,\n",
       " ('intend', 1): 208,\n",
       " ('older', 1): 179,\n",
       " ('children', 1): 574,\n",
       " ('probabl', 1): 1241,\n",
       " ('fell', 1): 186,\n",
       " ('asleep', 1): 97,\n",
       " ('colm', 1): 5,\n",
       " ('meaney', 1): 3,\n",
       " ('impress', 1): 503,\n",
       " ('emot', 1): 505,\n",
       " ('charisma', 1): 52,\n",
       " ('freak', 1): 118,\n",
       " ('talk', 1): 909,\n",
       " ('must', 1): 1175,\n",
       " ('dare', 1): 103,\n",
       " ('exploit', 1): 221,\n",
       " ('possess', 1): 159,\n",
       " ('girl', 1): 1706,\n",
       " ('seduc', 1): 54,\n",
       " ('priest', 1): 122,\n",
       " ('masturb', 1): 30,\n",
       " ('watch', 1): 5973,\n",
       " ('masturbationscen', 1): 2,\n",
       " ('pervert', 1): 53,\n",
       " ('gori', 1): 135,\n",
       " ('bloodi', 1): 149,\n",
       " ('vomit', 1): 53,\n",
       " ('beyond', 1): 479,\n",
       " ('door', 1): 249,\n",
       " ('better', 1): 2667,\n",
       " ('flick', 1): 858,\n",
       " ('caught', 1): 184,\n",
       " ('copi', 1): 315,\n",
       " ('wan', 1): 10,\n",
       " ('exploiat', 1): 2,\n",
       " ('exorc', 1): 13,\n",
       " ('angel', 1): 206,\n",
       " ('devil', 1): 161,\n",
       " ('waist', 1): 26,\n",
       " ('first', 1): 3309,\n",
       " ('recent', 1): 352,\n",
       " ('campaign', 1): 29,\n",
       " ('huge', 1): 417,\n",
       " ('hoax', 1): 9,\n",
       " ('judg', 1): 198,\n",
       " ('cover', 1): 465,\n",
       " ('scandal', 1): 20,\n",
       " ('kyli', 1): 3,\n",
       " ('drug', 1): 358,\n",
       " ('cheap', 1): 611,\n",
       " ('market', 1): 163,\n",
       " ('scheme', 1): 57,\n",
       " ('neither', 1): 266,\n",
       " ('thing', 1): 3820,\n",
       " ('unbeliev', 1): 302,\n",
       " ('surpris', 1): 700,\n",
       " ('filmmak', 1): 438,\n",
       " ('object', 1): 141,\n",
       " ('disappoint', 1): 1027,\n",
       " ('sunset', 1): 14,\n",
       " ('beach', 1): 141,\n",
       " ('episod', 1): 713,\n",
       " ('teenag', 1): 350,\n",
       " ('quentin', 1): 24,\n",
       " ('tarantino', 1): 57,\n",
       " ('that', 1): 166,\n",
       " ('meant', 1): 244,\n",
       " ('compliment', 1): 36,\n",
       " ('mind', 1): 972,\n",
       " ('weak', 1): 419,\n",
       " ('cool', 1): 416,\n",
       " ('trip', 1): 155,\n",
       " ('around', 1): 1464,\n",
       " ('live', 1): 1380,\n",
       " ('edg', 1): 112,\n",
       " ('use', 1): 2090,\n",
       " ('potenti', 1): 356,\n",
       " ('said', 1): 1031,\n",
       " ('elabor', 1): 53,\n",
       " ('color', 1): 211,\n",
       " ('mtv', 1): 52,\n",
       " ('ad', 1): 351,\n",
       " ('definit', 1): 535,\n",
       " ('still', 1): 1817,\n",
       " ('guess', 1): 770,\n",
       " ('enjoy', 1): 1187,\n",
       " ('far', 1): 1230,\n",
       " ('screen', 1): 1138,\n",
       " ('sundanc', 1): 18,\n",
       " ('night', 1): 929,\n",
       " ('recept', 1): 15,\n",
       " ('mute', 1): 57,\n",
       " ('crowd', 1): 101,\n",
       " ('worth', 1): 864,\n",
       " ('relat', 1): 401,\n",
       " ('everi', 1): 1568,\n",
       " ('singl', 1): 413,\n",
       " ('role', 1): 1314,\n",
       " ('recogniz', 1): 24,\n",
       " ('spend', 1): 412,\n",
       " ('oh', 1): 829,\n",
       " ('guy', 1): 2219,\n",
       " ('armageddon', 1): 14,\n",
       " ('hey', 1): 208,\n",
       " ('easi', 1): 241,\n",
       " ('rider', 1): 19,\n",
       " ('lose', 1): 294,\n",
       " ('distract', 1): 107,\n",
       " ('sort', 1): 760,\n",
       " ('love', 1): 2337,\n",
       " ('boat', 1): 184,\n",
       " ('old', 1): 1695,\n",
       " ('tower', 1): 63,\n",
       " ('inferno', 1): 21,\n",
       " ('chock', 1): 10,\n",
       " ('block', 1): 63,\n",
       " ('wish', 1): 476,\n",
       " ('told', 1): 360,\n",
       " ('simpli', 1): 845,\n",
       " ('famous', 1): 198,\n",
       " ('camera', 1): 987,\n",
       " ('lazi', 1): 97,\n",
       " ('best', 1): 1670,\n",
       " ('back', 1): 1958,\n",
       " ('dvd', 1): 799,\n",
       " ('describ', 1): 291,\n",
       " ('el', 1): 46,\n",
       " ('chucabra', 1): 2,\n",
       " ('captur', 1): 221,\n",
       " ('wilder', 1): 69,\n",
       " ('legendari', 1): 61,\n",
       " ('bloodthirsti', 1): 22,\n",
       " ('creatur', 1): 353,\n",
       " ('chupacabra', 1): 35,\n",
       " ('escap', 1): 310,\n",
       " ('citi', 1): 365,\n",
       " ('creat', 1): 546,\n",
       " ('mayhem', 1): 35,\n",
       " ('panic', 1): 29,\n",
       " ('pursu', 1): 57,\n",
       " ('dead', 1): 1049,\n",
       " ('beast', 1): 85,\n",
       " ('anim', 1): 686,\n",
       " ('control', 1): 252,\n",
       " ('offic', 1): 356,\n",
       " ('dr', 1): 280,\n",
       " ('starlina', 1): 10,\n",
       " ('david', 1): 264,\n",
       " ('vigilant', 1): 33,\n",
       " ('suspici', 1): 43,\n",
       " ('plan', 1): 359,\n",
       " ('elus', 1): 10,\n",
       " ('killer', 1): 693,\n",
       " ('mysteri', 1): 471,\n",
       " ('facil', 1): 28,\n",
       " ('run', 1): 1303,\n",
       " ('diabol', 1): 32,\n",
       " ('goodspe', 1): 2,\n",
       " ('putrid', 1): 15,\n",
       " ('somewhat', 1): 311,\n",
       " ('amus', 1): 279,\n",
       " ('alcohol', 1): 75,\n",
       " ('script', 1): 1878,\n",
       " ('wooden', 1): 233,\n",
       " ('belief', 1): 115,\n",
       " ('amateurish', 1): 157,\n",
       " ('rubber', 1): 74,\n",
       " ('suit', 1): 257,\n",
       " ('easili', 1): 276,\n",
       " ('extrem', 1): 657,\n",
       " ('ugli', 1): 240,\n",
       " ('cellblock', 1): 1,\n",
       " ('rake', 1): 10,\n",
       " ('bottom', 1): 235,\n",
       " ('midnight', 1): 40,\n",
       " ('barrel', 1): 71,\n",
       " ('combin', 1): 179,\n",
       " ('pulpi', 1): 2,\n",
       " ('sleaz', 1): 73,\n",
       " ('hoariest', 1): 2,\n",
       " ('shower', 1): 94,\n",
       " ('clich', 1): 667,\n",
       " ('linda', 1): 71,\n",
       " ('blair', 1): 84,\n",
       " ('innoc', 1): 151,\n",
       " ('sent', 1): 103,\n",
       " ('jail', 1): 57,\n",
       " ('offhand', 1): 2,\n",
       " ('involv', 1): 812,\n",
       " ('car', 1): 788,\n",
       " ('hard', 1): 1443,\n",
       " ('hous', 1): 836,\n",
       " ('nastiest', 1): 1,\n",
       " ('russ', 1): 12,\n",
       " ('meyer', 1): 24,\n",
       " ('pic', 1): 12,\n",
       " ('continu', 1): 475,\n",
       " ('paw', 1): 2,\n",
       " ('punch', 1): 115,\n",
       " ('rape', 1): 275,\n",
       " ('humili', 1): 71,\n",
       " ('harass', 1): 16,\n",
       " ('four', 1): 341,\n",
       " ('letter', 1): 121,\n",
       " ('word', 1): 744,\n",
       " ('disgust', 1): 237,\n",
       " ('throughout', 1): 528,\n",
       " ('offer', 1): 409,\n",
       " ('barrag', 1): 11,\n",
       " ('violenc', 1): 438,\n",
       " ('stupid', 1): 1390,\n",
       " ('viewer', 1): 759,\n",
       " ('camp', 1): 228,\n",
       " ('classic', 1): 573,\n",
       " ('cheek', 1): 51,\n",
       " ('found', 1): 995,\n",
       " ('soundtrack', 1): 253,\n",
       " ('techniqu', 1): 84,\n",
       " ('lag', 1): 9,\n",
       " ('drag', 1): 277,\n",
       " ('agre', 1): 319,\n",
       " ('compress', 1): 10,\n",
       " ('rough', 1): 81,\n",
       " ('hour', 1): 1067,\n",
       " ('suspens', 1): 415,\n",
       " ('move', 1): 815,\n",
       " ('ritchi', 1): 32,\n",
       " ('redford', 1): 38,\n",
       " ('second', 1): 988,\n",
       " ('documentari', 1): 296,\n",
       " ('drama', 1): 477,\n",
       " ('candid', 1): 28,\n",
       " ('polit', 1): 329,\n",
       " ('satir', 1): 104,\n",
       " ('fresh', 1): 120,\n",
       " ('pertin', 1): 3,\n",
       " ('today', 1): 293,\n",
       " ('piti', 1): 167,\n",
       " ('downhil', 1): 75,\n",
       " ('racer', 1): 4,\n",
       " ('short', 1): 839,\n",
       " ('contrast', 1): 63,\n",
       " ('innov', 1): 46,\n",
       " ('ski', 1): 48,\n",
       " ('ing', 1): 26,\n",
       " ('sequenc', 1): 666,\n",
       " ('standard', 1): 347,\n",
       " ('televisu', 1): 1,\n",
       " ('coverag', 1): 7,\n",
       " ('sport', 1): 109,\n",
       " ('world', 1): 1098,\n",
       " ('accur', 1): 130,\n",
       " ('given', 1): 747,\n",
       " ('profession', 1): 155,\n",
       " ('theme', 1): 394,\n",
       " ('europ', 1): 53,\n",
       " ('likewis', 1): 23,\n",
       " ('hundrum', 1): 1,\n",
       " ('age', 1): 574,\n",
       " ('easier', 1): 45,\n",
       " ('travel', 1): 201,\n",
       " ('biggest', 1): 240,\n",
       " ('problem', 1): 1119,\n",
       " ('flat', 1): 362,\n",
       " ('centr', 1): 38,\n",
       " ('arrog', 1): 74,\n",
       " ('enigmat', 1): 11,\n",
       " ('dreari', 1): 67,\n",
       " ('insight', 1): 91,\n",
       " ('care', 1): 925,\n",
       " ('motiv', 1): 222,\n",
       " ('driven', 1): 68,\n",
       " ('bet', 1): 136,\n",
       " ('expect', 1): 1285,\n",
       " ('sad', 1): 734,\n",
       " ('bore', 1): 1634,\n",
       " ('theori', 1): 107,\n",
       " ('form', 1): 332,\n",
       " ('exclud', 1): 6,\n",
       " ('experiment', 1): 28,\n",
       " ('messag', 1): 332,\n",
       " ('target', 1): 160,\n",
       " ('opinion', 1): 399,\n",
       " ('low', 1): 1075,\n",
       " ('budget', 1): 1146,\n",
       " ('hellborn', 1): 4,\n",
       " ('asylum', 1): 32,\n",
       " ('damn', 1): 207,\n",
       " ('irremedi', 1): 1,\n",
       " ('tiresom', 1): 54,\n",
       " ('premis', 1): 335,\n",
       " ('develop', 1): 642,\n",
       " ('anoth', 1): 1702,\n",
       " ('fine', 1): 364,\n",
       " ('b', 1): 702,\n",
       " ('attempt', 1): 1099,\n",
       " ('philip', 1): 32,\n",
       " ('jone', 1): 208,\n",
       " ('tale', 1): 250,\n",
       " ('bishop', 1): 31,\n",
       " ('matt', 1): 91,\n",
       " ('stasi', 1): 5,\n",
       " ('psychiatri', 1): 2,\n",
       " ('resid', 1): 92,\n",
       " ('job', 1): 689,\n",
       " ('st', 1): 143,\n",
       " ('andrew', 1): 64,\n",
       " ('mental', 1): 180,\n",
       " ('hospit', 1): 138,\n",
       " ('secret', 1): 310,\n",
       " ('patient', 1): 81,\n",
       " ('constant', 1): 282,\n",
       " ('rumor', 1): 19,\n",
       " ('satan', 1): 91,\n",
       " ('practic', 1): 210,\n",
       " ('decid', 1): 840,\n",
       " ('find', 1): 1955,\n",
       " ('incredul', 1): 15,\n",
       " ('boss', 1): 124,\n",
       " ('mccort', 1): 1,\n",
       " ('bruce', 1): 156,\n",
       " ('payn', 1): 9,\n",
       " ('insan', 1): 147,\n",
       " ('quit', 1): 1357,\n",
       " ('execut', 1): 330,\n",
       " ('leav', 1): 870,\n",
       " ('desir', 1): 139,\n",
       " ('supernatur', 1): 96,\n",
       " ('psycholog', 1): 103,\n",
       " ('goe', 1): 976,\n",
       " ('fill', 1): 390,\n",
       " ('turn', 1): 1540,\n",
       " ('jump', 1): 253,\n",
       " ('keep', 1): 871,\n",
       " ('predict', 1): 583,\n",
       " ('storylin', 1): 354,\n",
       " ('except', 1): 802,\n",
       " ('notch', 1): 26,\n",
       " ('unworthi', 1): 11,\n",
       " ...}"
      ]
     },
     "execution_count": 20,
     "metadata": {},
     "output_type": "execute_result"
    }
   ],
   "source": [
    "## Run this cell to get an idea about the corpus of words and their occurrence along with labels. \n",
    "## In this, we are computing the frequency of occurrence of word given that a review is 'positive'.\n",
    "## Similarly, we also compute the frequence of occurence of word given that a review is 'negative'.\n",
    "freqs"
   ]
  },
  {
   "cell_type": "markdown",
   "id": "759c24bc",
   "metadata": {
    "id": "759c24bc"
   },
   "source": [
    "## Q4. Training the Naive Bayes Model: (20 points)\n",
    "\n",
    "Now we are in the training phase of the Naive Bayes algorithm. In this cell, take a look at the ways to calculate the log likelihood and log prior values as these are important for testing in the next few cells. \n",
    "\n",
    "Also calculate the frequency of occurrence of words where the output is negative. In the same way, calculate the word frequency count using the above functions in order to compute the log likelihood.\n",
    "\n",
    "Return the logprior and loglikelihood output by the model from this function. "
   ]
  },
  {
   "cell_type": "code",
   "execution_count": 21,
   "id": "a7f280e3",
   "metadata": {
    "id": "a7f280e3"
   },
   "outputs": [],
   "source": [
    "from sklearn.feature_extraction.text import TfidfVectorizer\n",
    "def train_naive_bayes(freqs, train_x, train_y):\n",
    "    '''\n",
    "    Input:\n",
    "        freqs: dictionary from (word, label) to how often the word appears\n",
    "        train_x: a list of reviews\n",
    "        train_y: a list of labels correponding to the reviews (0,1)\n",
    "    Output:\n",
    "        logprior: the log prior. (equation 3 above)\n",
    "        loglikelihood: the log likelihood of you Naive bayes equation. (equation 6 above)\n",
    "    '''\n",
    "    loglikelihood = {}\n",
    "    logprior = 0\n",
    "\n",
    "\n",
    "    # calculate V, the number of unique words in the vocabulary\n",
    "    vocab = []\n",
    "    for wordPair in freqs.keys():\n",
    "        if wordPair[0] not in vocab :\n",
    "                vocab.append(wordPair[0])           \n",
    "    V = len(vocab)\n",
    "    \n",
    "    \n",
    "\n",
    "    # calculate num_pos and num_neg - the total number of positive and negative words for all documents\n",
    "    num_pos = num_neg = 0\n",
    "    #for pair in frequency_dict.keys():\n",
    "    for pair in freqs.keys():\n",
    "        # if the label is zero.\n",
    "        if pair[1] == 0:\n",
    "\n",
    "            # Increment the number of positive words by the count for this (word, label) pair\n",
    "            num_pos = num_pos + freqs.get(pair);\n",
    "        # else, the label is negative\n",
    "        else:\n",
    "            # increment the number of negative words by the count for this (word,label) pair\n",
    "            num_neg = num_neg + freqs.get(pair);\n",
    "\n",
    "    # Calculate num_doc, the number of documents\n",
    "    num_doc = train_x['sentiment'].value_counts()\n",
    "\n",
    "    # Calculate D_pos, the number of positive documents \n",
    "    pos_num_docs = len(train_y[train_y['sentiment'] == 0])\n",
    "\n",
    "    # Calculate D_neg, the number of negative documents \n",
    "    neg_num_docs = len(train_y[train_y['sentiment'] == 1])\n",
    "    # Calculate logprior\n",
    "    logprior = math.log(neg_num_docs) - math.log(pos_num_docs)\n",
    "\n",
    "    # For each word in the vocabulary...\n",
    "    for word in vocab:\n",
    "        # get the positive and negative frequency of the word\n",
    "        \n",
    "        target_tuple_positive = (word, 0)\n",
    "        target_tuple_negative = (word, 1) \n",
    "        freq_pos = freqs.get(target_tuple_positive)\n",
    "        if(freq_pos is None):\n",
    "            freq_pos = 0;\n",
    "        freq_neg = freqs.get(target_tuple_negative)\n",
    "        if(freq_neg is None):\n",
    "            freq_neg = 0;\n",
    "\n",
    "        # calculate the probability that each word is positive, and negative\n",
    "        p_w_pos = (freq_pos + 1) / (num_pos + V)\n",
    "        p_w_neg = (freq_neg + 1) / (num_neg + V)\n",
    "        \n",
    "        # calculate the log likelihood of the word\n",
    "        loglikelihood[word] = math.log((p_w_neg/p_w_pos))\n",
    "    \n",
    "    return logprior, loglikelihood"
   ]
  },
  {
   "cell_type": "code",
   "execution_count": 22,
   "id": "1561d892",
   "metadata": {
    "id": "1561d892"
   },
   "outputs": [
    {
     "name": "stdout",
     "output_type": "stream",
     "text": [
      "0.0\n",
      "43670\n"
     ]
    }
   ],
   "source": [
    "# You do not have to input any code in this cell, but it is relevant to grading, so please do not change anything\n",
    "logprior, loglikelihood = train_naive_bayes(freqs, X_train, y_train)\n",
    "print(logprior)\n",
    "print(len(loglikelihood))"
   ]
  },
  {
   "cell_type": "code",
   "execution_count": 23,
   "id": "124e3e75",
   "metadata": {},
   "outputs": [],
   "source": [
    "# store the model parameters in a local file to be used by the classifier\n",
    "with open('naive_bayes_model_parameters.pkl', 'wb') as f:\n",
    "    pickle.dump( train_naive_bayes(freqs, X_train, y_train), f)"
   ]
  },
  {
   "cell_type": "markdown",
   "id": "19d9c882",
   "metadata": {
    "id": "19d9c882"
   },
   "source": [
    "### Expected Output \n",
    "\n",
    "0.0 <br>\n",
    "91425"
   ]
  },
  {
   "cell_type": "markdown",
   "id": "78b51303",
   "metadata": {
    "id": "78b51303"
   },
   "source": [
    "## Q5. Implementing Naive Bayes Predict Function: (10 points)\n",
    "\n",
    "It is now time to make our prediction as to whether a given review is negative or positive respectively. \n",
    "\n",
    "After adding the log likelihood values, ensure that the output is 1 (negative) if the sum of the log likelihood value is greater than 0 and 0 (positive) if the sum of the log likelihood is less than or equal to 0. "
   ]
  },
  {
   "cell_type": "code",
   "execution_count": 24,
   "id": "b692c2f9",
   "metadata": {
    "id": "b692c2f9"
   },
   "outputs": [],
   "source": [
    "# TASK 4 CELL\n",
    "\n",
    "def naive_bayes_predict(review, logprior, loglikelihood):\n",
    "    '''\n",
    "    Params:\n",
    "        review: a string\n",
    "        logprior: a number\n",
    "        loglikelihood: a dictionary of words mapping to numbers\n",
    "    Return:\n",
    "        total_prob: the sum of all the loglikelihoods of each word in the review (if found in the dictionary) + logprior (a number)\n",
    "\n",
    "    '''\n",
    "    \n",
    "    \n",
    "      # process the review to get a list of words\n",
    "    word_l = clean_review(review)\n",
    "\n",
    "    # initialize probability to zero\n",
    "    total_prob = 0\n",
    "    prediction = 0\n",
    "\n",
    "    # add the logprior\n",
    "    total_prob = total_prob + logprior\n",
    "    \n",
    "\n",
    "    for word in word_l:\n",
    "\n",
    "        # check if the word exists in the loglikelihood dictionary\n",
    "        if (word in loglikelihood):\n",
    "            # add the log likelihood of that word to the probability\n",
    "            total_prob = total_prob + loglikelihood[word]\n",
    "                   \n",
    "    if(total_prob > 0.0):\n",
    "        prediction = 1\n",
    "    if(total_prob <= 0.0):\n",
    "        prediction = 0\n",
    "\n",
    "    return prediction\n",
    "\n",
    "\n"
   ]
  },
  {
   "cell_type": "code",
   "execution_count": 25,
   "id": "4b170333",
   "metadata": {
    "colab": {
     "base_uri": "https://localhost:8080/"
    },
    "id": "4b170333",
    "outputId": "0cf6bc90-90e8-4dee-bf95-7eaf39dce147"
   },
   "outputs": [
    {
     "name": "stdout",
     "output_type": "stream",
     "text": [
      "The expected output is 1\n"
     ]
    }
   ],
   "source": [
    "# You do not have to input any code in this cell, but it is relevant to grading, so please do not change anything\n",
    "\n",
    "# Experiment with your own review.\n",
    "my_review = \"I thought this series was going to be another fun, action series with some dynamic plots and great performances. I was wrong. While I like Jamie Denton, this show is hardly worth watching at all, unless you enjoy watching some people brutalized and the actions of the agents supposedly warranted under the theme of national security. The show is great propaganda for the current government, and spews out jingoism as though we talk that way every day. After a couple of episodes, it was boring the hell out of me, and I started watching reruns of House Invaders on BBCAmerica instead. Rather watch CSI and Without a Trace, without a doubt.\"\n",
    "p = naive_bayes_predict(my_review, logprior, loglikelihood)\n",
    "print('The expected output is', p)"
   ]
  },
  {
   "cell_type": "markdown",
   "id": "7c4eeb71",
   "metadata": {
    "id": "7c4eeb71"
   },
   "source": [
    "## Q6. Implementing Naive Bayes Test function: (10 points)\n",
    "\n",
    "In this function, implement the previous functions such as naive_bayes_predict to get the predictions for the test set. \n",
    "\n",
    "In addition to this, the function should return the total number of reviews that it correctly classified as 'positive' or 'negative'. "
   ]
  },
  {
   "cell_type": "code",
   "execution_count": 32,
   "id": "66a511e7",
   "metadata": {
    "id": "66a511e7"
   },
   "outputs": [],
   "source": [
    "# UNQ_C6 (UNIQUE CELL IDENTIFIER, DO NOT EDIT)\n",
    "def test_naive_bayes(test_x, test_y, logprior, loglikelihood):\n",
    "    \"\"\"\n",
    "    Input:\n",
    "        test_x: A list of reviews\n",
    "        test_y: the corresponding labels for the list of reviews\n",
    "        logprior: the logprior\n",
    "        loglikelihood: a dictionary with the loglikelihoods for each word\n",
    "    Output:\n",
    "        accuracy: (# of reviews classified correctly)/(total # of reviews)\n",
    "    \"\"\"\n",
    "    accuracy = 0  \n",
    "    matched_result = 0\n",
    "    \n",
    "    \n",
    "    y_hats = []\n",
    "    for review in test_x:\n",
    "        # if the prediction is > 0\n",
    "        prediction = naive_bayes_predict(review, logprior, loglikelihood)\n",
    "        #if None:\n",
    "        if (prediction == 1):\n",
    "            # the predicted class is 1\n",
    "            y_hat_i = 1\n",
    "        else:\n",
    "            # otherwise the predicted class is 0\n",
    "            y_hat_i = 0\n",
    "\n",
    "        # append the predicted class to the list y_hats\n",
    "        y_hats.append(y_hat_i)\n",
    "\n",
    "    # error is the average of the absolute values of the differences between y_hats and test_y\n",
    "    total_difference = 0\n",
    "#     print(y_hats)\n",
    "#     print(test_y)\n",
    "    \n",
    "    for idx, x in enumerate(test_y):\n",
    "        total_difference = total_difference + abs(y_hats[idx] - x)\n",
    "        if(y_hats[idx] == x):\n",
    "            matched_result = matched_result + 1\n",
    "    error = total_difference / len(y_hats)\n",
    "    accuracy = 1 - error\n",
    "\n",
    "    return accuracy,y_hats,matched_result\n"
   ]
  },
  {
   "cell_type": "code",
   "execution_count": 27,
   "id": "8a9c5d9d",
   "metadata": {
    "id": "8a9c5d9d"
   },
   "outputs": [
    {
     "name": "stdout",
     "output_type": "stream",
     "text": [
      "If you like original gut wrenching laughter you will like this movie. If you are young or old then y -> 0.00\n",
      "What a waste of talent. A very poor, semi-coherent, script cripples this film. Rather unimaginative  -> 1.00\n",
      "I have seen this film at least 100 times and I am still excited by it, the acting is perfect and the -> 0.00\n",
      "Cheap, amateurish, unimaginative, exploitative... but don't think it'll have redeeming amusement val -> 1.00\n"
     ]
    }
   ],
   "source": [
    "# For grading purpose only\n",
    "# You do not have to input any code in this cell, but it is relevant to grading, so please do not change anything\n",
    "\n",
    "# Run this cell to test your function\n",
    "\n",
    "for review in [\"If you like original gut wrenching laughter you will like this movie. If you are young or old then you will love this movie, hell even my mom liked it.<br /><br />Great Camp!!!\",\n",
    "                \"What a waste of talent. A very poor, semi-coherent, script cripples this film. Rather unimaginative direction, too. Some VERY faint echoes of Fargo here, but it just doesn't come off.\",\n",
    "                \"I have seen this film at least 100 times and I am still excited by it, the acting is perfect and the romance between Joe and Jean keeps me on the edge of my seat, plus I still think Bryan Brown is the tops. Brilliant Film.\",\n",
    "                \"Cheap, amateurish, unimaginative, exploitative... but don't think it'll have redeeming amusement value. About as unentertaining, uninstructive and just plain dull as a film can be.\"]:\n",
    "    p = naive_bayes_predict(review, logprior, loglikelihood)\n",
    "    print(f'{review[:100]} -> {p:.2f}')\n",
    "    "
   ]
  },
  {
   "cell_type": "markdown",
   "id": "43e2ef98",
   "metadata": {
    "id": "43e2ef98"
   },
   "source": [
    "### Expected Output :\n",
    "\n",
    "If you like original gut wrenching laughter you will like this movie. If you are young or old then y -> 0.00 <br>\n",
    "What a waste of talent. A very poor, semi-coherent, script cripples this film. Rather unimaginative  -> 1.00<br>\n",
    "I have seen this film at least 100 times and I am still excited by it, the acting is perfect and the -> 0.00 <br>\n",
    "Cheap, amateurish, unimaginative, exploitative... but don't think it'll have redeeming amusement val -> 1.00\n",
    "\n"
   ]
  },
  {
   "cell_type": "code",
   "execution_count": 28,
   "id": "216fa97a",
   "metadata": {
    "colab": {
     "base_uri": "https://localhost:8080/"
    },
    "id": "216fa97a",
    "outputId": "9d1f21c7-b324-43c2-e841-269c0306cbb4"
   },
   "outputs": [
    {
     "data": {
      "text/plain": [
       "1"
      ]
     },
     "execution_count": 28,
     "metadata": {},
     "output_type": "execute_result"
    }
   ],
   "source": [
    "# Feel free to check the sentiment of your own review below\n",
    "my_review = 'The moview was very boring, I wanted to leave in the middle'\n",
    "naive_bayes_predict(my_review, logprior, loglikelihood)"
   ]
  },
  {
   "cell_type": "markdown",
   "id": "8a45e4f0",
   "metadata": {
    "id": "8a45e4f0"
   },
   "source": [
    "### Expected Output :\n",
    "1"
   ]
  },
  {
   "cell_type": "markdown",
   "id": "mAIkM4aCC1H7",
   "metadata": {
    "id": "mAIkM4aCC1H7"
   },
   "source": [
    "# Q7. Evaluate the accuracy (10 Points)\n",
    "1. Split your data into training and test sets using random selection. Set the seed as parameter of the function so that user can select a different training and test set by changin seed.\n",
    "\n",
    "2. Calculate model paramters with training set.\n",
    "\n",
    "3. Print confusion matrix for training and test set.\n",
    "\n",
    "4. Examine False Positive and False Negative cases and provide reasoning why they get misclassified."
   ]
  },
  {
   "cell_type": "code",
   "execution_count": 33,
   "id": "84757be8",
   "metadata": {},
   "outputs": [],
   "source": [
    "#Split your data into training and test sets using random selection. \n",
    "#Set the seed as parameter of the function so that user can select a \n",
    "#different training and test set by changing seed \n",
    "\n",
    "from sklearn.metrics import confusion_matrix\n",
    "from sklearn import metrics\n",
    "from sklearn.metrics import accuracy_score\n",
    "\n",
    "def evaluate_accuracy(seedValue):\n",
    "    X = df_upsampled\n",
    "    y = df_upsampled\n",
    "   \n",
    "    #Q1:Split your data into training and test sets using random selection. Set the seed as parameter of the function \n",
    "    #so that user can select a different training and test set by changin seed.\n",
    "    X_train_eval, X_test_eval, y_train_eval, y_test_eval = train_test_split(X, y, test_size=seedValue)\n",
    "    output_map = {'positive': 0, 'negative': 1}\n",
    "    y_train_eval['sentiment'] = y_train_eval['sentiment'].map(output_map)\n",
    "    y_test_eval['sentiment'] = y_test_eval['sentiment'].map(output_map)\n",
    "    \n",
    "    # accurancy evaluation for training data set\n",
    "    freqs = review_counter({}, X_train_eval['review'], y_train_eval['sentiment'])\n",
    "    #Q2:Calculate model paramters with training set.\n",
    "    logprior, loglikelihood = train_naive_bayes(freqs, X_train_eval, y_train_eval) \n",
    "    accuracy, y_train_pred, matched_result = test_naive_bayes(X_train_eval['review'],y_train_eval['sentiment'], logprior, loglikelihood)\n",
    "    \n",
    "    #Q3:Print confusion matrix for training and test set.\n",
    "    print(metrics.confusion_matrix(y_train_eval['sentiment'], y_train_pred))\n",
    "    print('Accuracy for training data is:',accuracy)\n",
    "    accuracy, y_train_pred,matched_result = test_naive_bayes(X_test_eval['review'], y_test_eval['sentiment'], logprior, loglikelihood) \n",
    "    print(metrics.confusion_matrix(y_test_eval['sentiment'],  y_train_pred))\n",
    "    print('Accuracy for test data is:', accuracy)\n",
    "    "
   ]
  },
  {
   "cell_type": "code",
   "execution_count": 30,
   "id": "ec43964a",
   "metadata": {},
   "outputs": [
    {
     "ename": "SyntaxError",
     "evalue": "invalid syntax (4241757914.py, line 2)",
     "output_type": "error",
     "traceback": [
      "\u001b[0;36m  Input \u001b[0;32mIn [30]\u001b[0;36m\u001b[0m\n\u001b[0;31m    False negative case:\u001b[0m\n\u001b[0m          ^\u001b[0m\n\u001b[0;31mSyntaxError\u001b[0m\u001b[0;31m:\u001b[0m invalid syntax\n"
     ]
    }
   ],
   "source": [
    "#Q4:Examine False Positive and False Negative cases and provide reasoning why they get misclassified.\n",
    "False negative case:\n",
    "Review: The movie is good.\n",
    "Reasoning: The probability of the word \"movie\" is 0.29363059089434607 and that of \"good\" is -0.0036938593431549366.\n",
    "        When we use the word \"movie\" alone we get a probability greater than 0 leading us to get a prediction of 1.\n",
    "        But when we use the word good alone it rightfully gives a prediction of 0 i.e positive. But since the probability \n",
    "        value of the word \"movie\" is quite high we end up with a summed loglikelihood value of greater than 0 and \n",
    "        thus a negative prediction. More occurence of the word movie as part of positive review would have helped us to \n",
    "        get a better prediction.\n",
    "        \n",
    "False positive case:\n",
    "Review:  Some might say that it is awesome, good, mindblowing, I personally did not like it.        \n",
    "Reasoning: Although the review is clearly negative, due to use of some positive words, our loglikelihood value summed \n",
    "        upto -1.8401437053512373 giving us a positive prediction.\n",
    "        For eg:- probability of \"awesome\" is -1.0595567113375304, probability of \"good\" is -0.0036938593431549366,\n",
    "        probability of \"mindblowing\" is -1.3657235984634144 and that of \"did not like\"  0.2066322448821285.\n",
    "        Clearly we have bigger values for positive words the total loglikelihood value is negative and thus we got a prediction \n",
    "        of false positive.\n",
    "            "
   ]
  },
  {
   "cell_type": "code",
   "execution_count": 34,
   "id": "a3d56697",
   "metadata": {},
   "outputs": [
    {
     "name": "stdout",
     "output_type": "stream",
     "text": [
      "[[8874 1098]\n",
      " [ 577 9409]]\n",
      "Accuracy for training data is: 0.9160737548852591\n",
      "[[2095  407]\n",
      " [ 242 2246]]\n",
      "Accuracy for test data is: 0.869939879759519\n"
     ]
    }
   ],
   "source": [
    "evaluate_accuracy(0.2)"
   ]
  },
  {
   "cell_type": "markdown",
   "id": "XbzttYVnBo7W",
   "metadata": {
    "id": "XbzttYVnBo7W"
   },
   "source": [
    "# Q8. Modularize your calssifier (10 points)\n",
    "1. Convert your code into a python module text_classifier.py\n",
    "\n",
    "2. The user should be able to launch the application on command prompt using python test_classifier.py command. The module will automatically load the model paramters from a local file of your choice and be ready to take the input from user on command prompt. The program will preprocess user input, tokenize and predict the class.\n",
    "\n",
    "3. Your module will take the input from user and output sentiment class in an indefinite loop. The output should printout the probabilities for each input token along with the final classification decision. Program will quit if user enters X.\n"
   ]
  },
  {
   "cell_type": "code",
   "execution_count": null,
   "id": "lKAQrnnbBnKe",
   "metadata": {
    "id": "lKAQrnnbBnKe"
   },
   "outputs": [],
   "source": []
  },
  {
   "cell_type": "markdown",
   "id": "82e6e4d1",
   "metadata": {
    "id": "82e6e4d1"
   },
   "source": [
    "# Q9. Theory Questions: (10 points)\n",
    "\n",
    "1. Why is Laplace Smoothing or Additive Smoothing required while executing Naive Bayes operations, especially for text classification? Show how not having additive smoothing leads to bad outcomes by using an example of training and the test set. (10 points)\n",
    "\n",
    "\n",
    "2. Why are logarithmic values computed instead of only probability values in the Naive Bayes algorithm? (5 points)"
   ]
  },
  {
   "cell_type": "code",
   "execution_count": 637,
   "id": "0fd93ae8",
   "metadata": {},
   "outputs": [
    {
     "ename": "SyntaxError",
     "evalue": "invalid syntax (4014450903.py, line 1)",
     "output_type": "error",
     "traceback": [
      "\u001b[0;36m  Input \u001b[0;32mIn [637]\u001b[0;36m\u001b[0m\n\u001b[0;31m    Laplace smoothing is a smoothing technique that handles the problem of zero probability in Naïve Bayes.\u001b[0m\n\u001b[0m            ^\u001b[0m\n\u001b[0;31mSyntaxError\u001b[0m\u001b[0;31m:\u001b[0m invalid syntax\n"
     ]
    }
   ],
   "source": [
    "Laplace smoothing is a smoothing technique that handles the problem of zero probability in Naïve Bayes. \n",
    "Using Laplace smoothing, we can represent P(w’|positive) as\n",
    " \n",
    "    P(w’|positive) = (number of reviews with w’ and y = positive + ⍺) / (N + ⍺ * k)\n",
    "\n",
    "Here,\n",
    "alpha represents the smoothing parameter,\n",
    "K represents the number of dimensions (features) in the data, and\n",
    "N represents the number of reviews with y=positive\n",
    "If we choose a value of alpha!=0 (not equal to 0), the probability will no longer be zero even if a word is not present in the training dataset.\n",
    "\n",
    "\n",
    "If the training data has a different frequency distribution compared to the test set, the Naive Bayes classifier performs poorly. The classifier is especially affected by values not being represented in the training set.\n",
    "\n",
    "If the model comes across a categorical feature that isn’t present in the training set, the probability of 0 is assigned to that new category. This is very dangerous, \n",
    "as multiplying 0 with other features’ probabilities will result in 0. \n",
    "\n",
    "Even when we use the log probabilities, the zero observation problem exists. Because log(0) = -\\inf, and summation with \\inf will cancel out all the valid information from other features.\n",
    "\n",
    "We need to check for these cases and take action if the test data set has zero frequency issues. The most known approach is to use Laplace Smoothing. In this technique, we add a parameter to both numerator \n",
    "and denominator when calculating the class probabilities.\n",
    "\n",
    "For example, we can add a smoothing parameter (of 1) when calculating the class probabilities:\n",
    "\n",
    "  \\[P(C|A) = \\frac{P(A |C) P(C) + 1}{P(A) + 1}\\]\n",
    "\n",
    "The smoothing parameter ensures that the probability value is never zero. \n",
    "Applying a smoothing technique assigns a very small probability estimate to such zero frequency occurrences, hence, regularize the Naive Bayes classifier. \n",
    "\n",
    "\n",
    "\n",
    "Not having additive smoothing leads to bad outcomes due to the following reason:\n",
    "Essentially, in Naive Bayes, we do inference on a test sequence  𝐱=(𝑥1,𝑥2,…,𝑥𝑛)  using the following equation:\n",
    "\n",
    "𝑦𝑝𝑟𝑒𝑑=argmax𝑦𝑃(𝑦)𝑃(𝑥1|𝑦)𝑃(𝑥2|𝑦)…𝑃(𝑥𝑛|𝑦) \n",
    "\n",
    "The probabilities in the above equation are estimated from the training data, typically by simply counting the no. of occurrences of each event [which is equivalent to the maximum likelihood estimate]. Now, suppose we are solving a spam classification task using the above, and in our training data, we see the word ‘buy’ only in spam emails, and never in non-spam emails. Therefore, our estimate will tell us that  𝑃(buy|not-spam)=0 , that is, no non-spam email will contain the word ‘buy’. Now, clearly, this is not true. The probability of this event is low, but it is not zero. Further, because we are multiplying all the probabilities during inference, even one such zero probability term will lead to the entire process failing.\n",
    "\n",
    "Therefore, we need smoothing — the goal is to increase the zero probability values to a small positive number [and correspondingly reduce other values so that the sum is still 1]. Laplace smoothing is one such method.\n",
    "\n",
    "To explain Laplace smoothing without going into the math, in the above example, we will assume that we have “additional emails” in our training data — one spam email with all the English words, and one non-spam email with all the English words. This ensures that every word appears at least once in each category. So our counts change as follows:\n",
    "\n",
    "If initially, we had 20 spam emails and 80 non-spam emails, we had  𝑃(spam)=0.20  and  𝑃(not-spam)=0.80 . This now changes to 21 spam emails and 81 non-spam emails making  𝑃(spam)=0.21  and  𝑃(not-spam)=0.79 .\n",
    "Similarly, if we originally had ‘buy’ in 5 out of 20 spam emails and in no non-spam emails, we had  𝑃(buy|spam)=0.25  and  𝑃(buy|not-spam)=0 . Now, we have ‘buy’ in 6 out of 21 spam emails and in 1 out of 81 non-spam emails changing the probabilities to  𝑃(buy|spam)=0.29  and  𝑃(buy|not-spam)=0.01 .\n",
    "If we are familiar with Bayesian approach, the above is equivalent to imposing a uniform prior over our events.\n",
    "\n",
    "Finally, there is nothing specific about smoothing to Naive Bayes. Any time we use counts to estimate parameters, which can lead to zero values , we should use smoothing.\n",
    "\n",
    "\n",
    "\n"
   ]
  },
  {
   "cell_type": "code",
   "execution_count": null,
   "id": "6369be2a",
   "metadata": {},
   "outputs": [],
   "source": [
    "Multiplying very small numbers will lead to even smaller numbers. It is difficult to precisely store \n",
    "and compare these very small numbers. We face these problems when working with probability values.\n",
    "\n",
    "To avoid working with very small numbers, we can work within the log probability space \n",
    "by taking the logarithm of probability values.\n",
    "\n",
    "The log function maps the probability values from [0, 1] range to the (- \\inf, 0] range. \n",
    "Thus, the log probability values will be negative.The smaller the actual probability value is, \n",
    "it’ll be mapped to a larger negative value by the log function.\n",
    "We need to remember that multiplication operation becomes an addition in the logarithm space. \n",
    "So, taking the logarithm of the whole equation gives us:\n",
    "                  m\n",
    " log (P(C_i/A)) ∝ (∑) log (P(aj/C_i))log (P(C_i))            [the predicted class C_i,]\n",
    "                  j=1                                        [A represents an observation with m attributes: [A = {a_1, a_2, ..., a_m}\\]]         \n",
    "                                                                                       \n",
    "This mapping approach works because to classify in Naive Bayes, we need to know which class has the\n",
    "largest probability rather than what the specific probability is. \n",
    "Taking the logarithm will not change the ordering of class label probability scores. \n",
    "Hence, we can still decide which class has the highest probability.\n",
    "                                                                       \n",
    "                                                                       "
   ]
  }
 ],
 "metadata": {
  "colab": {
   "collapsed_sections": [],
   "name": "CS6120_NLP_Assignment_1_Notebook.ipynb",
   "provenance": [],
   "toc_visible": true
  },
  "kernelspec": {
   "display_name": "Python 3 (ipykernel)",
   "language": "python",
   "name": "python3"
  },
  "language_info": {
   "codemirror_mode": {
    "name": "ipython",
    "version": 3
   },
   "file_extension": ".py",
   "mimetype": "text/x-python",
   "name": "python",
   "nbconvert_exporter": "python",
   "pygments_lexer": "ipython3",
   "version": "3.8.9"
  }
 },
 "nbformat": 4,
 "nbformat_minor": 5
}

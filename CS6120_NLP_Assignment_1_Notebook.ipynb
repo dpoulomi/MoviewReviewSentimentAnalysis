{
 "cells": [
  {
   "cell_type": "markdown",
   "id": "bc97d6da",
   "metadata": {
    "id": "bc97d6da"
   },
   "source": [
    "## CS 6120: Natural Language Processing - Prof. Ahmad Uzair\n",
    "\n",
    "### Assignment 1: Naive Bayes\n",
    "### Total Points: 100 points\n",
    "\n",
    "You will be dealing with movie review data that includes both positive and negative reviews in this assignment. You will use Sentiment Analysis to assess if a given review is positive or negative using the provided dataset.\n",
    "\n",
    "Therefore, we will make use of Naive Bayes algorithm to perform sentiment analysis on the movie review dataset.\n",
    "\n",
    "## Importing the Libraries"
   ]
  },
  {
   "cell_type": "code",
   "execution_count": 374,
   "id": "a03450ac",
   "metadata": {
    "id": "a03450ac"
   },
   "outputs": [
    {
     "name": "stderr",
     "output_type": "stream",
     "text": [
      "[nltk_data] Downloading package punkt to /Users/neo/nltk_data...\n",
      "[nltk_data]   Package punkt is already up-to-date!\n",
      "[nltk_data] Downloading package wordnet to /Users/neo/nltk_data...\n",
      "[nltk_data]   Package wordnet is already up-to-date!\n",
      "[nltk_data] Downloading package stopwords to /Users/neo/nltk_data...\n",
      "[nltk_data]   Package stopwords is already up-to-date!\n",
      "[nltk_data] Downloading package omw-1.4 to /Users/neo/nltk_data...\n",
      "[nltk_data]   Package omw-1.4 is already up-to-date!\n"
     ]
    }
   ],
   "source": [
    "import numpy as np\n",
    "import math\n",
    "import pandas as pd\n",
    "import re\n",
    "import string\n",
    "import nltk\n",
    "from nltk.corpus import stopwords\n",
    "# from nltk.stem import PorterStemmer\n",
    "from nltk.stem import SnowballStemmer\n",
    "from nltk.tokenize import word_tokenize\n",
    "from nltk.stem import WordNetLemmatizer\n",
    "from sklearn import preprocessing\n",
    "from bs4 import BeautifulSoup\n",
    "from sklearn.model_selection import train_test_split\n",
    "import joblib\n",
    "import warnings\n",
    "import seaborn as sns\n",
    "import matplotlib.pyplot as plt\n",
    "import pickle\n",
    "nltk.download('punkt')\n",
    "nltk.download('wordnet')\n",
    "nltk.download(\"stopwords\")\n",
    "nltk.download('omw-1.4')\n",
    "\n",
    "warnings.filterwarnings(\"ignore\")"
   ]
  },
  {
   "cell_type": "markdown",
   "id": "fc584cc2",
   "metadata": {
    "id": "fc584cc2"
   },
   "source": [
    "## Reading the data\n",
    "\n",
    "When reading the data, ensure that the '.csv' file is in the same location where your jupyter notebook is used. This way the files are organized and easy to read using the pandas library. "
   ]
  },
  {
   "cell_type": "code",
   "execution_count": 375,
   "id": "3c9ffbf5",
   "metadata": {
    "id": "3c9ffbf5"
   },
   "outputs": [],
   "source": [
    "warnings.filterwarnings(\"ignore\")\n",
    "## Reading the data and removing columns that are not important. \n",
    "df = pd.read_csv(\"/Users/neo/CS6120/nlp-assignments/assignment1/movie_reviews-1.csv\", sep = ',', encoding = 'latin-1', usecols = lambda col: col not in [\"Unnamed: 2\", \"Unnamed: 3\", \"Unnamed: 4\"])"
   ]
  },
  {
   "cell_type": "code",
   "execution_count": 376,
   "id": "f7fa8ac0",
   "metadata": {
    "colab": {
     "base_uri": "https://localhost:8080/",
     "height": 206
    },
    "id": "f7fa8ac0",
    "outputId": "69edaf28-1e2e-4ec7-9530-b30a2853ab9e"
   },
   "outputs": [
    {
     "data": {
      "text/html": [
       "<div>\n",
       "<style scoped>\n",
       "    .dataframe tbody tr th:only-of-type {\n",
       "        vertical-align: middle;\n",
       "    }\n",
       "\n",
       "    .dataframe tbody tr th {\n",
       "        vertical-align: top;\n",
       "    }\n",
       "\n",
       "    .dataframe thead th {\n",
       "        text-align: right;\n",
       "    }\n",
       "</style>\n",
       "<table border=\"1\" class=\"dataframe\">\n",
       "  <thead>\n",
       "    <tr style=\"text-align: right;\">\n",
       "      <th></th>\n",
       "      <th>review</th>\n",
       "      <th>sentiment</th>\n",
       "    </tr>\n",
       "  </thead>\n",
       "  <tbody>\n",
       "    <tr>\n",
       "      <th>0</th>\n",
       "      <td>One of the other reviewers has mentioned that ...</td>\n",
       "      <td>positive</td>\n",
       "    </tr>\n",
       "    <tr>\n",
       "      <th>1</th>\n",
       "      <td>A wonderful little production. &lt;br /&gt;&lt;br /&gt;The...</td>\n",
       "      <td>positive</td>\n",
       "    </tr>\n",
       "    <tr>\n",
       "      <th>2</th>\n",
       "      <td>I thought this was a wonderful way to spend ti...</td>\n",
       "      <td>positive</td>\n",
       "    </tr>\n",
       "    <tr>\n",
       "      <th>3</th>\n",
       "      <td>Petter Mattei's \"Love in the Time of Money\" is...</td>\n",
       "      <td>positive</td>\n",
       "    </tr>\n",
       "    <tr>\n",
       "      <th>4</th>\n",
       "      <td>Probably my all-time favorite movie, a story o...</td>\n",
       "      <td>positive</td>\n",
       "    </tr>\n",
       "  </tbody>\n",
       "</table>\n",
       "</div>"
      ],
      "text/plain": [
       "                                              review sentiment\n",
       "0  One of the other reviewers has mentioned that ...  positive\n",
       "1  A wonderful little production. <br /><br />The...  positive\n",
       "2  I thought this was a wonderful way to spend ti...  positive\n",
       "3  Petter Mattei's \"Love in the Time of Money\" is...  positive\n",
       "4  Probably my all-time favorite movie, a story o...  positive"
      ]
     },
     "execution_count": 376,
     "metadata": {},
     "output_type": "execute_result"
    }
   ],
   "source": [
    "None  # print head of data frame with help of head function\n",
    "df.head()"
   ]
  },
  {
   "cell_type": "markdown",
   "id": "1749da04",
   "metadata": {
    "id": "1749da04"
   },
   "source": [
    "## Count plot of the output categories: positive or negative\n",
    "\n",
    "Feel free to take a look at the output and whether the classes are balanced or imbalanced. "
   ]
  },
  {
   "cell_type": "code",
   "execution_count": 377,
   "id": "c152e8a4",
   "metadata": {
    "colab": {
     "base_uri": "https://localhost:8080/",
     "height": 515
    },
    "id": "c152e8a4",
    "outputId": "a2ba0476-3238-4511-fcf0-780508493f48",
    "scrolled": true
   },
   "outputs": [
    {
     "data": {
      "image/png": "[encoded data removed]",
      "text/plain": [
       "<Figure size 360x360 with 1 Axes>"
      ]
     },
     "metadata": {
      "needs_background": "light"
     },
     "output_type": "display_data"
    }
   ],
   "source": [
    "plt.figure(figsize = (5,5))\n",
    " \n",
    "sns.countplot(x ='sentiment', data = df)\n",
    "plt.title(\"Positive Vs. Negative reviews count\", fontsize = 16)\n",
    "plt.show()\n"
   ]
  },
  {
   "cell_type": "markdown",
   "id": "9b8549f2",
   "metadata": {
    "id": "9b8549f2"
   },
   "source": [
    "## Upsampling the minority class: (5 points)\n",
    "\n",
    "It is known that Naive bayes is not robust to class imbalance. It could be seen above that the data is little imbalanced. Therefore, class balancing can be done before giving it to the Naive Bayes model for prediction. \n",
    "\n",
    "Feel free to use 'resample' library from sklearn. "
   ]
  },
  {
   "cell_type": "code",
   "execution_count": 378,
   "id": "yHJTAqrW7XMN",
   "metadata": {
    "id": "yHJTAqrW7XMN"
   },
   "outputs": [],
   "source": [
    "## hint: use resample from sklearn.utils\n",
    "from sklearn.utils import resample\n",
    "\n",
    "df_majority = df[df['sentiment'] == 'positive']\n",
    "df_minority = df[df['sentiment'] == 'negative']\n",
    "\n",
    "negative_upsample = resample(df_minority, replace = True, \n",
    "                        n_samples = df_majority.shape[0],\n",
    "                        random_state = 101)\n",
    "\n",
    "df_upsampled = pd.concat([negative_upsample, df_majority])  # concat two data frames i,e majority class data set and upsampled minority class data set\n",
    "df_upsampled = df_upsampled.sample(frac = 1)"
   ]
  },
  {
   "cell_type": "code",
   "execution_count": 379,
   "id": "6a9329bb",
   "metadata": {
    "id": "6a9329bb"
   },
   "outputs": [
    {
     "name": "stdout",
     "output_type": "stream",
     "text": [
      "(12474, 2)\n"
     ]
    }
   ],
   "source": [
    "## Just to ensure that upsampling was done successfully, take a look at the shape of the data in \n",
    "## this cell. \n",
    "\n",
    "# print the shape of data set with the help of shape function having \"negative\" as class label\n",
    "print(negative_upsample.shape)"
   ]
  },
  {
   "cell_type": "markdown",
   "id": "6f8bf6e7",
   "metadata": {
    "id": "6f8bf6e7"
   },
   "source": [
    "### Expected Output : \n",
    "(12474, 2)"
   ]
  },
  {
   "cell_type": "code",
   "execution_count": 380,
   "id": "bdea8155",
   "metadata": {
    "colab": {
     "base_uri": "https://localhost:8080/"
    },
    "id": "bdea8155",
    "outputId": "c665c4b9-826e-4f4e-e30e-06e0935a0622"
   },
   "outputs": [
    {
     "name": "stdout",
     "output_type": "stream",
     "text": [
      "(12474, 2)\n"
     ]
    }
   ],
   "source": [
    "## Ensure that the same number of data points are present for both 'positive' and 'negative' data\n",
    "\n",
    "# print the shape of data set with the help of shape function having \"positive\" as class label\n",
    "print(df_majority.shape)"
   ]
  },
  {
   "cell_type": "markdown",
   "id": "626f01d5",
   "metadata": {
    "id": "626f01d5"
   },
   "source": [
    "### Expected Output : \n",
    "(12474, 2)"
   ]
  },
  {
   "cell_type": "code",
   "execution_count": 381,
   "id": "NoW5z6SzAeP8",
   "metadata": {
    "id": "NoW5z6SzAeP8"
   },
   "outputs": [],
   "source": [
    "## In this cell, we are going to be dividing the data into train and test points\n",
    "## Ensure that you store the upsampled data in a variable called 'df_upsampled' \n",
    "## so that the below operations are performed successfully\n",
    "\n",
    "\n",
    "## Considering 10000 positive and 10000 negative data points\n",
    "negative_data_points_train = df_upsampled[df_upsampled['sentiment'] == 'negative'].iloc[0:10000, :]\n",
    "#print(negative_data_points_train)\n",
    "positive_data_points_train = df_upsampled[df_upsampled['sentiment'] == 'positive'].iloc[0:10000, :]\n",
    "#print(positive_data_points_train)\n",
    "## Considering the remaining data points for test\n",
    "negative_data_points_test = df_upsampled[df_upsampled['sentiment'] == 'negative'].iloc[10000:30000, :]\n",
    "#print(negative_data_points_test)\n",
    "positive_data_points_test = df_upsampled[df_upsampled['sentiment'] == 'positive'].iloc[10000:30000, :]\n",
    "#print(positive_data_points_test)\n",
    "## Concatenate the training positive and negative reviews\n",
    "X_train = pd.concat([negative_data_points_train, positive_data_points_train])\n",
    "## Concatenating the training positive and negative outputs\n",
    "y_train = pd.concat([negative_data_points_train, positive_data_points_train])\n",
    "\n",
    "## Concatenating the test positive and negative reviews\n",
    "X_test = pd.concat([negative_data_points_test, positive_data_points_test])\n",
    "## Concatenating the test positive and negative outputs\n",
    "y_test = pd.concat([negative_data_points_test, positive_data_points_test])"
   ]
  },
  {
   "cell_type": "code",
   "execution_count": 382,
   "id": "6428047d",
   "metadata": {
    "colab": {
     "base_uri": "https://localhost:8080/"
    },
    "id": "6428047d",
    "outputId": "10d10601-0ce0-4688-c4d3-75fa386583fd"
   },
   "outputs": [
    {
     "data": {
      "text/plain": [
       "negative    10000\n",
       "positive    10000\n",
       "Name: sentiment, dtype: int64"
      ]
     },
     "execution_count": 382,
     "metadata": {},
     "output_type": "execute_result"
    }
   ],
   "source": [
    "## Take a look at the total number of classes and their count using '.value_counts()' for y_train and y_test.\n",
    "## Ensure that there are equal number of positive and negative reviews. \n",
    "X_train['sentiment'].value_counts()\n",
    "y_train['sentiment'].value_counts()"
   ]
  },
  {
   "cell_type": "markdown",
   "id": "7dfe6517",
   "metadata": {
    "id": "7dfe6517"
   },
   "source": [
    "### Expected Output:\n",
    "negative    10000<br>\n",
    "positive    10000<br>\n",
    "Name: sentiment, dtype: int64"
   ]
  },
  {
   "cell_type": "code",
   "execution_count": 383,
   "id": "2beae1d6",
   "metadata": {
    "colab": {
     "base_uri": "https://localhost:8080/"
    },
    "id": "2beae1d6",
    "outputId": "6896f930-6a1a-45db-b74c-d080c9aedd0c"
   },
   "outputs": [
    {
     "data": {
      "text/plain": [
       "negative    2474\n",
       "positive    2474\n",
       "Name: sentiment, dtype: int64"
      ]
     },
     "execution_count": 383,
     "metadata": {},
     "output_type": "execute_result"
    }
   ],
   "source": [
    "X_test['sentiment'].value_counts()\n",
    "y_test['sentiment'].value_counts()\n"
   ]
  },
  {
   "cell_type": "markdown",
   "id": "9163f897",
   "metadata": {
    "id": "9163f897"
   },
   "source": [
    "### Expected Output : \n",
    "negative    2474<br>\n",
    "positive    2474<br>\n",
    "Name: sentiment, dtype: int64"
   ]
  },
  {
   "cell_type": "markdown",
   "id": "6501699b",
   "metadata": {
    "id": "6501699b"
   },
   "source": [
    "## Q1. Pre-process the reviews: (10 points)\n",
    "\n",
    "We know that a review contains links, punctuation, stopwords and many other words that don't give a lot of meaning for the Naive Bayes model for prediction. \n",
    "\n",
    "In the cell below, one must implement text-preprocessing and remove links, punctuations and stopwords. It is also important to lowercase the letters so that 'Admire' and 'admire' are not treated as different words. \n",
    "\n",
    "In addition to this, perform stemming operation so that similar words are reduced. To know more about stemming, feel free to take a look at this link.\n",
    "\n",
    "https://nlp.stanford.edu/IR-book/html/htmledition/stemming-and-lemmatization-1.html"
   ]
  },
  {
   "cell_type": "code",
   "execution_count": 384,
   "id": "CirLN9-ddQ1r",
   "metadata": {
    "id": "CirLN9-ddQ1r"
   },
   "outputs": [],
   "source": [
    "# TASK CELL\n",
    "#ps = PorterStemmer()\n",
    "snowball = SnowballStemmer(language='english')\n",
    "def clean_review(review):\n",
    "    no_html = BeautifulSoup(review).get_text()\n",
    "    clean = re.sub(\"[^a-z\\s]+\", \" \", no_html, flags=re.IGNORECASE)\n",
    "    clean = re.sub(\"(\\s+)\", \" \", clean)\n",
    "    clean = clean.lower()\n",
    "    stopwords_en = stopwords.words(\"english\")\n",
    "    cleaned_stopwords = [w for w in re.split(\"\\W+\", clean) if not w in stopwords_en]\n",
    "#     cleaned_stopwords = [snowball.stem(word) for word in review\n",
    "#                 if not word in set(stopwords.words('english'))]\n",
    "    stemmed_words = []\n",
    "    for w in cleaned_stopwords:\n",
    "        stemmed_words.append(snowball.stem(w))\n",
    "    return stemmed_words\n",
    "    #return cleaned_stopwords\n",
    "        \n",
    "\n",
    "# custom_review = X_train.iloc[0]['review']\n",
    "\n",
    "# # print cleaned review\n",
    "# print(clean_review(custom_review))"
   ]
  },
  {
   "cell_type": "markdown",
   "id": "a7632fe5",
   "metadata": {
    "id": "a7632fe5"
   },
   "source": [
    "## Q2. Implement a find_occurrence function (5 points):\n",
    "\n",
    "In this function, we find the total occurrence of a word giving information such as label, word and frequency dictionary.\n",
    "\n",
    "Note that this function is used later in the code when we are going to be predicting the output using Naive Bayes. "
   ]
  },
  {
   "cell_type": "code",
   "execution_count": 385,
   "id": "eb282b81",
   "metadata": {
    "id": "eb282b81"
   },
   "outputs": [],
   "source": [
    "# TASK CELL\n",
    "def find_occurrence(frequency, word, label):\n",
    "    '''\n",
    "    Params:\n",
    "        frequency: a dictionary with the frequency of each pair (or tuple)\n",
    "        word: the word to look up\n",
    "        label: the label corresponding to the word\n",
    "    Return:\n",
    "        n: the number of times the word with its corresponding label appears.\n",
    "    '''\n",
    "    for k, n in frequency.items():\n",
    "        if ((k[0] == word) and (k[1] == label)):\n",
    "            return n"
   ]
  },
  {
   "cell_type": "markdown",
   "id": "29a2249d",
   "metadata": {
    "id": "29a2249d"
   },
   "source": [
    "### Converting output to numerical format:\n",
    "\n",
    "We have outputs as 'positive' or 'negative'. In the cell below, we convert it to a numerical format. "
   ]
  },
  {
   "cell_type": "code",
   "execution_count": 386,
   "id": "bcdc2b2c",
   "metadata": {
    "id": "bcdc2b2c"
   },
   "outputs": [],
   "source": [
    "## With the use of mapping function, we replace\n",
    "## the label in the form of string to an integer. \n",
    "\n",
    "output_map = {'positive': 0, 'negative': 1}\n",
    "y_train['sentiment'] = y_train['sentiment'].map(output_map)\n",
    "y_test['sentiment'] = y_test['sentiment'].map(output_map)"
   ]
  },
  {
   "cell_type": "code",
   "execution_count": 387,
   "id": "3dde0bbd",
   "metadata": {
    "colab": {
     "base_uri": "https://localhost:8080/"
    },
    "id": "3dde0bbd",
    "outputId": "223dfbc1-8efe-4183-b6d7-c9cb025cb285"
   },
   "outputs": [
    {
     "data": {
      "text/plain": [
       "1    10000\n",
       "0    10000\n",
       "Name: sentiment, dtype: int64"
      ]
     },
     "execution_count": 387,
     "metadata": {},
     "output_type": "execute_result"
    }
   ],
   "source": [
    "## Ensuring that there are equal number of classes on the training data. \n",
    "y_train['sentiment'].value_counts()"
   ]
  },
  {
   "cell_type": "code",
   "execution_count": 388,
   "id": "f2959b85",
   "metadata": {
    "colab": {
     "base_uri": "https://localhost:8080/",
     "height": 178
    },
    "id": "f2959b85",
    "outputId": "e514214b-cd57-43fc-875d-1821ddab63f8"
   },
   "outputs": [
    {
     "data": {
      "text/plain": [
       "\"Scary, but mostly in the sense that will it be over before I turn 70. I saw this as a late night re-run in about 1976 and thought it would never end. Like crackers, it's better than nothing (but just).<br /><br />Ray Milland is a little scary because he looks as if he's been stuffed by a taxidermist. Yvette Mimeux looks as if she's smoked up all the Beautiful Downtown Burbank Brown. <br /><br />It's a sort of Roy Rogers version of Rosemary's Baby. This is one turkey that should never have been made. If you have insomnia and it's 1:30 on Saturday morning and there's nothing on but replays of the 1972 Roller Derby Chamionship, then I guess it beats that. But God help you if this is your only choice for entertainment.\""
      ]
     },
     "execution_count": 388,
     "metadata": {},
     "output_type": "execute_result"
    }
   ],
   "source": [
    "## Choosing a random review and taking a look at it.\n",
    "X_train.iloc[0]['review']"
   ]
  },
  {
   "cell_type": "markdown",
   "id": "ed5e43c9",
   "metadata": {
    "id": "ed5e43c9"
   },
   "source": [
    "From the above cell output, it could be seen that there are a lot of words that don't add a lot of meaning to the text. \n",
    "\n",
    "Therefore, those words would be removed. It also reduces the computation time. \n",
    "\n",
    "Therefore, it is a good practice we are following."
   ]
  },
  {
   "cell_type": "code",
   "execution_count": 389,
   "id": "ad3937ea",
   "metadata": {
    "colab": {
     "base_uri": "https://localhost:8080/"
    },
    "id": "ad3937ea",
    "outputId": "68985efe-32cd-4c11-ed5b-2e1e1b297e73"
   },
   "outputs": [
    {
     "name": "stdout",
     "output_type": "stream",
     "text": [
      "['scari', 'most', 'sens', 'turn', 'saw', 'late', 'night', 'run', 'thought', 'would', 'never', 'end', 'like', 'cracker', 'better', 'noth', 'ray', 'milland', 'littl', 'scari', 'look', 'stuf', 'taxidermist', 'yvett', 'mimeux', 'look', 'smoke', 'beauti', 'downtown', 'burbank', 'brown', 'sort', 'roy', 'roger', 'version', 'rosemari', 'babi', 'one', 'turkey', 'never', 'made', 'insomnia', 'saturday', 'morn', 'noth', 'replay', 'roller', 'derbi', 'chamionship', 'guess', 'beat', 'god', 'help', 'choic', 'entertain', '']\n"
     ]
    }
   ],
   "source": [
    "custom_review = X_train.iloc[0]['review']\n",
    "\n",
    "# print cleaned review\n",
    "print(clean_review(custom_review))"
   ]
  },
  {
   "cell_type": "markdown",
   "id": "3e6cc440",
   "metadata": {
    "id": "3e6cc440"
   },
   "source": [
    "We now use this function to pre-process the review and remove words that don't add a lot of meaning in our model. "
   ]
  },
  {
   "cell_type": "markdown",
   "id": "5a762960",
   "metadata": {
    "id": "5a762960"
   },
   "source": [
    "## Q3. Implementing review counter function: (5 points)\n",
    "\n",
    "It is now time to implement the count function for the reviews. \n",
    "\n",
    "In this function, we count the occurrence of words and get the probabilities \n",
    "for the words based on the training data. \n",
    "\n",
    "In other words, we get the probability of occurrence of a word, given that the output is 'positive'.\n",
    "\n",
    "Similarly, we also compute the probability of occurence of a word, given that the output is 'negative'.\n",
    "\n"
   ]
  },
  {
   "cell_type": "code",
   "execution_count": 390,
   "id": "5de61f77",
   "metadata": {
    "id": "5de61f77"
   },
   "outputs": [],
   "source": [
    "# TASK CELL\n",
    "def review_counter(output_occurrence, reviews, positive_or_negative):\n",
    "    '''\n",
    "    Params:\n",
    "        output_occurrence: a dictionary that will be used to map each pair to its frequency\n",
    "        reviews: a list of reviews\n",
    "        positive_or_negative: a list corresponding to the sentiment of each review (either 0 or 1)\n",
    "    Return:\n",
    "        output: a dictionary mapping each pair to its frequency\n",
    "    '''\n",
    "    ## Steps :\n",
    "    # define the key, which is the word and label tuple\n",
    "    # if the key exists in the dictionary, increment the count\n",
    "    # else, if the key is new, add it to the dictionary and set the count to 1\n",
    "    \n",
    "    for label, review in zip(positive_or_negative, reviews):\n",
    "      #split_review = clean_review(review).split()\n",
    "      split_review = clean_review(review)\n",
    "      for word in split_review:\n",
    "#         print(label)\n",
    "#         print(review)\n",
    "#         print(word)\n",
    "        # Your code here\n",
    "        target_tuple = (word, label)\n",
    "        #if (target_tuple in output_occurrence.keys()):\n",
    "        if (output_occurrence.get(target_tuple) != None ):    \n",
    "           # print(output_occurrence.get(target_tuple))\n",
    "            output_occurrence[target_tuple] = output_occurrence.get(target_tuple) + 1 \n",
    "           # print(output_occurrence.get(target_tuple))\n",
    "        else :\n",
    "            output_occurrence[target_tuple] = 1\n",
    "            #print(output_occurrence.get(target_tuple))\n",
    "   \n",
    "    return output_occurrence"
   ]
  },
  {
   "cell_type": "markdown",
   "id": "18238223",
   "metadata": {
    "id": "18238223"
   },
   "source": [
    "### Test your function with example reviews:\n",
    "\n",
    "Feel free to run the cell below and understand whether the above function that you have defined is producing the optimum results. "
   ]
  },
  {
   "cell_type": "code",
   "execution_count": 391,
   "id": "07a4c58a",
   "metadata": {
    "colab": {
     "base_uri": "https://localhost:8080/"
    },
    "id": "07a4c58a",
    "outputId": "dd9e148a-34a9-4cfe-9077-c5de33493d7a"
   },
   "outputs": [
    {
     "data": {
      "text/plain": [
       "{('got', 1): 1,\n",
       " ('bore', 1): 2,\n",
       " ('throught', 1): 1,\n",
       " ('moview', 1): 1,\n",
       " ('movi', 0): 2,\n",
       " ('fantast', 0): 1,\n",
       " ('watch', 1): 1,\n",
       " ('complet', 1): 1,\n",
       " ('wast', 1): 1,\n",
       " ('time', 1): 1,\n",
       " ('money', 1): 1,\n",
       " ('enjoy', 0): 1,\n",
       " ('fullest', 0): 1}"
      ]
     },
     "execution_count": 391,
     "metadata": {},
     "output_type": "execute_result"
    }
   ],
   "source": [
    "# Testing your function\n",
    "\n",
    "result = {}\n",
    "reviews = ['got bored throught the moview', 'The movie was fantastic', 'Will not watch it again', 'Was bored, it was a complete waste of time and money', 'Enjoyed the movie to the fullest']\n",
    "ys = [1, 0, 1, 1, 0]\n",
    "review_counter(result,reviews, ys)"
   ]
  },
  {
   "cell_type": "markdown",
   "id": "927f89bb",
   "metadata": {
    "id": "927f89bb"
   },
   "source": [
    "### Expected Output:\n",
    " {('bored', 1): 2, <br>\n",
    " ('complete', 1): 1, <br>\n",
    " ('enjoyed', 0): 1, <br>\n",
    " ('fantastic', 0): 1, <br>\n",
    " ('fullest', 0): 1, <br>\n",
    " ('got', 1): 1, <br>\n",
    " ('money', 1): 1, <br>\n",
    " ('movie', 0): 2, <br>\n",
    " ('moview', 1): 1, <br>\n",
    " ('throught', 1): 1, <br>\n",
    " ('time', 1): 1, <br>\n",
    " ('waste', 1): 1, <br>\n",
    " ('watch', 1): 1}"
   ]
  },
  {
   "cell_type": "code",
   "execution_count": 392,
   "id": "9bc62e13",
   "metadata": {
    "id": "9bc62e13"
   },
   "outputs": [],
   "source": [
    "# Build the freqs dictionary for later uses\n",
    "\n",
    "freqs = review_counter({}, X_train['review'], y_train['sentiment'])"
   ]
  },
  {
   "cell_type": "code",
   "execution_count": 393,
   "id": "0eddf420",
   "metadata": {
    "id": "0eddf420"
   },
   "outputs": [
    {
     "data": {
      "text/plain": [
       "{('scari', 1): 448,\n",
       " ('most', 1): 403,\n",
       " ('sens', 1): 983,\n",
       " ('turn', 1): 1564,\n",
       " ('saw', 1): 1122,\n",
       " ('late', 1): 392,\n",
       " ('night', 1): 895,\n",
       " ('run', 1): 1241,\n",
       " ('thought', 1): 1526,\n",
       " ('would', 1): 5889,\n",
       " ('never', 1): 2744,\n",
       " ('end', 1): 3749,\n",
       " ('like', 1): 9859,\n",
       " ('cracker', 1): 33,\n",
       " ('better', 1): 2697,\n",
       " ('noth', 1): 2351,\n",
       " ('ray', 1): 123,\n",
       " ('milland', 1): 5,\n",
       " ('littl', 1): 2366,\n",
       " ('look', 1): 4844,\n",
       " ('stuf', 1): 29,\n",
       " ('taxidermist', 1): 1,\n",
       " ('yvett', 1): 18,\n",
       " ('mimeux', 1): 1,\n",
       " ('smoke', 1): 131,\n",
       " ('beauti', 1): 719,\n",
       " ('downtown', 1): 13,\n",
       " ('burbank', 1): 2,\n",
       " ('brown', 1): 124,\n",
       " ('sort', 1): 757,\n",
       " ('roy', 1): 37,\n",
       " ('roger', 1): 147,\n",
       " ('version', 1): 788,\n",
       " ('rosemari', 1): 8,\n",
       " ('babi', 1): 286,\n",
       " ('one', 1): 10829,\n",
       " ('turkey', 1): 165,\n",
       " ('made', 1): 3539,\n",
       " ('insomnia', 1): 23,\n",
       " ('saturday', 1): 99,\n",
       " ('morn', 1): 113,\n",
       " ('replay', 1): 15,\n",
       " ('roller', 1): 28,\n",
       " ('derbi', 1): 1,\n",
       " ('chamionship', 1): 1,\n",
       " ('guess', 1): 786,\n",
       " ('beat', 1): 206,\n",
       " ('god', 1): 692,\n",
       " ('help', 1): 1003,\n",
       " ('choic', 1): 236,\n",
       " ('entertain', 1): 1005,\n",
       " ('', 1): 9865,\n",
       " ('got', 1): 1525,\n",
       " ('al', 1): 96,\n",
       " ('pacino', 1): 55,\n",
       " ('play', 1): 2928,\n",
       " ('movi', 1): 23269,\n",
       " ('beyond', 1): 466,\n",
       " ('absolut', 1): 897,\n",
       " ('terribl', 1): 1362,\n",
       " ('discov', 1): 267,\n",
       " ('read', 1): 1260,\n",
       " ('review', 1): 1011,\n",
       " ('coupl', 1): 823,\n",
       " ('peopl', 1): 3719,\n",
       " ('actual', 1): 2297,\n",
       " ('enjoy', 1): 1176,\n",
       " ('film', 1): 18000,\n",
       " ('deepli', 1): 64,\n",
       " ('puzzl', 1): 56,\n",
       " ('see', 1): 5119,\n",
       " ('anyon', 1): 1177,\n",
       " ('right', 1): 1421,\n",
       " ('mind', 1): 979,\n",
       " ('could', 1): 3704,\n",
       " ('possibl', 1): 872,\n",
       " ('aw', 1): 1352,\n",
       " ('revolut', 1): 54,\n",
       " ('bad', 1): 6462,\n",
       " ('lame', 1): 489,\n",
       " ('plot', 1): 3545,\n",
       " ('overal', 1): 558,\n",
       " ('strang', 1): 409,\n",
       " ('extrem', 1): 664,\n",
       " ('unpleas', 1): 69,\n",
       " ('seem', 1): 3469,\n",
       " ('filmmak', 1): 444,\n",
       " ('either', 1): 959,\n",
       " ('mental', 1): 189,\n",
       " ('retard', 1): 129,\n",
       " ('explan', 1): 184,\n",
       " ('suck', 1): 547,\n",
       " ('though', 1): 1726,\n",
       " ('probabl', 1): 1249,\n",
       " ('still', 1): 1889,\n",
       " ('even', 1): 6332,\n",
       " ('compar', 1): 390,\n",
       " ('deliber', 1): 64,\n",
       " ('everi', 1): 1579,\n",
       " ('illog', 1): 48,\n",
       " ('decis', 1): 145,\n",
       " ('make', 1): 6555,\n",
       " ('much', 1): 3974,\n",
       " ('exampl', 1): 690,\n",
       " ('donald', 1): 55,\n",
       " ('sutherland', 1): 41,\n",
       " ('around', 1): 1502,\n",
       " ('huge', 1): 429,\n",
       " ('fat', 1): 164,\n",
       " ('ugli', 1): 237,\n",
       " ('mole', 1): 35,\n",
       " ('face', 1): 902,\n",
       " ('normal', 1): 290,\n",
       " ('add', 1): 441,\n",
       " ('charact', 1): 5752,\n",
       " ('distract', 1): 112,\n",
       " ('robert', 1): 443,\n",
       " ('de', 1): 199,\n",
       " ('niro', 1): 21,\n",
       " ('wors', 1): 1049,\n",
       " ('hell', 1): 581,\n",
       " ('said', 1): 1044,\n",
       " ('let', 1): 1313,\n",
       " ('alreadi', 1): 597,\n",
       " ('know', 1): 3152,\n",
       " ('give', 1): 2256,\n",
       " ('mr', 1): 406,\n",
       " ('giant', 1): 219,\n",
       " ('ass', 1): 166,\n",
       " ('anoth', 1): 1687,\n",
       " ('stupid', 1): 1393,\n",
       " ('ned', 1): 42,\n",
       " ('first', 1): 3380,\n",
       " ('three', 1): 903,\n",
       " ('quarter', 1): 67,\n",
       " ('young', 1): 1024,\n",
       " ('point', 1): 1795,\n",
       " ('six', 1): 140,\n",
       " ('month', 1): 148,\n",
       " ('later', 1): 753,\n",
       " ('appear', 1): 1131,\n",
       " ('screen', 1): 1147,\n",
       " ('cours', 1): 892,\n",
       " ('actor', 1): 2900,\n",
       " ('boy', 1): 759,\n",
       " ('five', 1): 437,\n",
       " ('minut', 1): 2147,\n",
       " ('week', 1): 292,\n",
       " ('sudden', 1): 321,\n",
       " ('differ', 1): 876,\n",
       " ('older', 1): 178,\n",
       " ('think', 1): 3545,\n",
       " ('idiot', 1): 361,\n",
       " ('good', 1): 6041,\n",
       " ('say', 1): 3319,\n",
       " ('oh', 1): 859,\n",
       " ('wait', 1): 597,\n",
       " ('idea', 1): 1344,\n",
       " ('kid', 1): 1261,\n",
       " ('grow', 1): 207,\n",
       " ('half', 1): 1167,\n",
       " ('year', 1): 2269,\n",
       " ('fine', 1): 384,\n",
       " ('least', 1): 1535,\n",
       " ('get', 1): 6059,\n",
       " ('younger', 1): 144,\n",
       " ('furthermor', 1): 63,\n",
       " ('matter', 1): 542,\n",
       " ('fact', 1): 1546,\n",
       " ('complet', 1): 1459,\n",
       " ('skinnier', 1): 2,\n",
       " ('taller', 1): 8,\n",
       " ('origin', 1): 1805,\n",
       " ('confus', 1): 441,\n",
       " ('ration', 1): 43,\n",
       " ('human', 1): 691,\n",
       " ('new', 1): 1357,\n",
       " ('die', 1): 915,\n",
       " ('hour', 1): 1064,\n",
       " ('guy', 1): 2202,\n",
       " ('lock', 1): 102,\n",
       " ('stock', 1): 178,\n",
       " ('two', 1): 2676,\n",
       " ('barrel', 1): 71,\n",
       " ('last', 1): 1251,\n",
       " ('gotten', 1): 122,\n",
       " ('remaind', 1): 16,\n",
       " ('role', 1): 1353,\n",
       " ('shoot', 1): 533,\n",
       " ('measli', 1): 6,\n",
       " ('scene', 1): 4655,\n",
       " ('yet', 1): 911,\n",
       " ('scrap', 1): 25,\n",
       " ('finish', 1): 344,\n",
       " ('releas', 1): 638,\n",
       " ('tell', 1): 1172,\n",
       " ('anybodi', 1): 162,\n",
       " ('realiz', 1): 443,\n",
       " ('wast', 1): 1514,\n",
       " ('money', 1): 1261,\n",
       " ('time', 1): 6120,\n",
       " ('succeed', 1): 151,\n",
       " ('worst', 1): 1863,\n",
       " ('watch', 1): 5977,\n",
       " ('alway', 1): 951,\n",
       " ('carri', 1): 382,\n",
       " ('doubl', 1): 172,\n",
       " ('mean', 1): 1340,\n",
       " ('sexual', 1): 356,\n",
       " ('innuendo', 1): 14,\n",
       " ('dialogu', 1): 879,\n",
       " ('moment', 1): 966,\n",
       " ('slapstick', 1): 80,\n",
       " ('comedi', 1): 1444,\n",
       " ('critic', 1): 338,\n",
       " ('star', 1): 1615,\n",
       " ('basic', 1): 723,\n",
       " ('mani', 1): 2336,\n",
       " ('british', 1): 283,\n",
       " ('gather', 1): 56,\n",
       " ('coach', 1): 61,\n",
       " ('go', 1): 3960,\n",
       " ('spanish', 1): 122,\n",
       " ('holiday', 1): 65,\n",
       " ('island', 1): 397,\n",
       " ('call', 1): 1358,\n",
       " ('elsbel', 1): 2,\n",
       " ('palac', 1): 25,\n",
       " ('hotel', 1): 142,\n",
       " ('built', 1): 83,\n",
       " ('plus', 1): 308,\n",
       " ('share', 1): 173,\n",
       " ('bathroom', 1): 47,\n",
       " ('neighbour', 1): 23,\n",
       " ('crap', 1): 688,\n",
       " ('draw', 1): 164,\n",
       " ('complic', 1): 91,\n",
       " ('complaint', 1): 46,\n",
       " ('owner', 1): 133,\n",
       " ('pepe', 1): 13,\n",
       " ('peter', 1): 301,\n",
       " ('butterworth', 1): 5,\n",
       " ('put', 1): 1357,\n",
       " ('quit', 1): 1331,\n",
       " ('amus', 1): 277,\n",
       " ('accent', 1): 370,\n",
       " ('e', 1): 258,\n",
       " ('g', 1): 194,\n",
       " ('peac', 1): 99,\n",
       " ('sound', 1): 1070,\n",
       " ('p', 1): 169,\n",
       " ('word', 1): 769,\n",
       " ('sid', 1): 28,\n",
       " ('jame', 1): 285,\n",
       " ('vic', 1): 18,\n",
       " ('flang', 1): 4,\n",
       " ('kenneth', 1): 23,\n",
       " ('william', 1): 231,\n",
       " ('stuart', 1): 21,\n",
       " ('farquhar', 1): 2,\n",
       " ('charl', 1): 133,\n",
       " ('hawtrey', 1): 4,\n",
       " ('eustac', 1): 2,\n",
       " ('tuttl', 1): 5,\n",
       " ('joan', 1): 56,\n",
       " ('sim', 1): 10,\n",
       " ('cora', 1): 2,\n",
       " ('barbara', 1): 49,\n",
       " ('windsor', 1): 5,\n",
       " ('sadi', 1): 15,\n",
       " ('tomkin', 1): 2,\n",
       " ('connor', 1): 30,\n",
       " ('stanley', 1): 22,\n",
       " ('blunt', 1): 30,\n",
       " ('appar', 1): 608,\n",
       " ('person', 1): 1255,\n",
       " ('rememb', 1): 663,\n",
       " ('jimmi', 1): 64,\n",
       " ('logan', 1): 38,\n",
       " ('bert', 1): 15,\n",
       " ('conway', 1): 14,\n",
       " ('june', 1): 15,\n",
       " ('whitfield', 1): 3,\n",
       " ('evelyn', 1): 7,\n",
       " ('hatti', 1): 12,\n",
       " ('jacqu', 1): 14,\n",
       " ('floella', 1): 2,\n",
       " ('ridicul', 1): 736,\n",
       " ('hag', 1): 12,\n",
       " ('memor', 1): 186,\n",
       " ('usual', 1): 720,\n",
       " ('matron', 1): 8,\n",
       " ('bernard', 1): 29,\n",
       " ('bresslaw', 1): 5,\n",
       " ('brother', 1): 552,\n",
       " ('salli', 1): 50,\n",
       " ('geeson', 1): 3,\n",
       " ('lili', 1): 17,\n",
       " ('carol', 1): 50,\n",
       " ('hawkin', 1): 4,\n",
       " ('marg', 1): 3,\n",
       " ('jack', 1): 308,\n",
       " ('dougla', 1): 79,\n",
       " ('harri', 1): 183,\n",
       " ('patsi', 1): 18,\n",
       " ('rowland', 1): 9,\n",
       " ('miss', 1): 893,\n",
       " ('dobb', 1): 3,\n",
       " ('admit', 1): 363,\n",
       " ('great', 1): 2243,\n",
       " ('enough', 1): 1552,\n",
       " ('gag', 1): 189,\n",
       " ('bab', 1): 7,\n",
       " ('shower', 1): 92,\n",
       " ('bum', 1): 39,\n",
       " ('icon', 1): 46,\n",
       " ('whistl', 1): 14,\n",
       " ('rapid', 1): 51,\n",
       " ('rip', 1): 356,\n",
       " ('bra', 1): 19,\n",
       " ('okay', 1): 387,\n",
       " ('except', 1): 808,\n",
       " ('dull', 1): 552,\n",
       " ('intend', 1): 198,\n",
       " ('unoffici', 1): 6,\n",
       " ('sequel', 1): 478,\n",
       " ('french', 1): 288,\n",
       " ('connect', 1): 281,\n",
       " ('drawback', 1): 5,\n",
       " ('script', 1): 1851,\n",
       " ('viewer', 1): 768,\n",
       " ('remain', 1): 296,\n",
       " ('uninvolv', 1): 25,\n",
       " ('feel', 1): 1995,\n",
       " ('left', 1): 955,\n",
       " ('pictur', 1): 654,\n",
       " ('direct', 1): 1663,\n",
       " ('cold', 1): 191,\n",
       " ('lack', 1): 1019,\n",
       " ('energi', 1): 117,\n",
       " ('chase', 1): 363,\n",
       " ('sequenc', 1): 654,\n",
       " ('liven', 1): 14,\n",
       " ('thing', 1): 3826,\n",
       " ('sholay', 1): 23,\n",
       " ('consid', 1): 587,\n",
       " ('greatest', 1): 139,\n",
       " ('wonder', 1): 1010,\n",
       " ('ever', 1): 2536,\n",
       " ('remak', 1): 325,\n",
       " ('classic', 1): 594,\n",
       " ('rgv', 1): 11,\n",
       " ('announc', 1): 70,\n",
       " ('somewhat', 1): 318,\n",
       " ('excit', 1): 370,\n",
       " ('mayb', 1): 1149,\n",
       " ('chang', 1): 701,\n",
       " ('someth', 1): 2393,\n",
       " ('b', 1): 675,\n",
       " ('grade', 1): 261,\n",
       " ('hope', 1): 979,\n",
       " ('realli', 1): 5022,\n",
       " ('tri', 1): 3121,\n",
       " ('posit', 1): 399,\n",
       " ('promis', 1): 304,\n",
       " ('keep', 1): 878,\n",
       " ('cinematographi', 1): 294,\n",
       " ('awesom', 1): 105,\n",
       " ('side', 1): 559,\n",
       " ('action', 1): 1417,\n",
       " ('weak', 1): 422,\n",
       " ('screenplay', 1): 281,\n",
       " ('potenti', 1): 358,\n",
       " ('biggest', 1): 230,\n",
       " ('flaw', 1): 218,\n",
       " ('edit', 1): 628,\n",
       " ('none', 1): 500,\n",
       " ('felt', 1): 630,\n",
       " ('place', 1): 1136,\n",
       " ('forc', 1): 643,\n",
       " ('iron', 1): 150,\n",
       " ('develop', 1): 631,\n",
       " ('linger', 1): 35,\n",
       " ('disappoint', 1): 996,\n",
       " ('question', 1): 514,\n",
       " ('act', 1): 4316,\n",
       " ('amitabh', 1): 35,\n",
       " ('bachchan', 1): 32,\n",
       " ('gabbar', 1): 14,\n",
       " ('singh', 1): 15,\n",
       " ('concentr', 1): 84,\n",
       " ('menac', 1): 103,\n",
       " ('creep', 1): 45,\n",
       " ('mohanl', 1): 19,\n",
       " ('bare', 1): 404,\n",
       " ('impress', 1): 516,\n",
       " ('ajay', 1): 28,\n",
       " ('devgan', 1): 17,\n",
       " ('decent', 1): 727,\n",
       " ('perform', 1): 1488,\n",
       " ('gave', 1): 494,\n",
       " ('prashant', 1): 12,\n",
       " ('raj', 1): 44,\n",
       " ('confid', 1): 25,\n",
       " ('far', 1): 1192,\n",
       " ('expect', 1): 1294,\n",
       " ('sushmita', 1): 11,\n",
       " ('sen', 1): 19,\n",
       " ('best', 1): 1667,\n",
       " ('lot', 1): 1906,\n",
       " ('express', 1): 222,\n",
       " ('nisha', 1): 10,\n",
       " ('kothari', 1): 8,\n",
       " ('surpris', 1): 696,\n",
       " ('disinterest', 1): 15,\n",
       " ('part', 1): 2099,\n",
       " ('emot', 1): 501,\n",
       " ('friend', 1): 1229,\n",
       " ('death', 1): 827,\n",
       " ('need', 1): 1479,\n",
       " ('find', 1): 1947,\n",
       " ('director', 1): 2255,\n",
       " ('talent', 1): 719,\n",
       " ('cute', 1): 224,\n",
       " ('chemistri', 1): 155,\n",
       " ('strong', 1): 295,\n",
       " ('passion', 1): 120,\n",
       " ('found', 1): 982,\n",
       " ('hate', 1): 615,\n",
       " ('song', 1): 624,\n",
       " ('pretti', 1): 1698,\n",
       " ('urmila', 1): 4,\n",
       " ('mehbooba', 1): 9,\n",
       " ('overblown', 1): 23,\n",
       " ('slept', 1): 26,\n",
       " ('howev', 1): 1352,\n",
       " ('nice', 1): 794,\n",
       " ('danc', 1): 393,\n",
       " ('holi', 1): 65,\n",
       " ('number', 1): 469,\n",
       " ('went', 1): 663,\n",
       " ('someon', 1): 1213,\n",
       " ('forward', 1): 347,\n",
       " ('heavili', 1): 69,\n",
       " ('high', 1): 1057,\n",
       " ('jungl', 1): 116,\n",
       " ('lost', 1): 615,\n",
       " ('regain', 1): 14,\n",
       " ('sarkar', 1): 4,\n",
       " ('forgotten', 1): 130,\n",
       " ('bore', 1): 1581,\n",
       " ('salena', 1): 10,\n",
       " ('incid', 1): 82,\n",
       " ('set', 1): 1601,\n",
       " ('arizona', 1): 16,\n",
       " ('row', 1): 86,\n",
       " ('inmat', 1): 12,\n",
       " ('transfer', 1): 74,\n",
       " ('state', 1): 376,\n",
       " ('prison', 1): 198,\n",
       " ('reason', 1): 1614,\n",
       " ('explain', 1): 500,\n",
       " ('drive', 1): 382,\n",
       " ('along', 1): 699,\n",
       " ('arm', 1): 239,\n",
       " ('bus', 1): 62,\n",
       " ('flat', 1): 328,\n",
       " ('driver', 1): 86,\n",
       " ('pull', 1): 341,\n",
       " ('road', 1): 192,\n",
       " ('blond', 1): 183,\n",
       " ('bird', 1): 84,\n",
       " ('seduc', 1): 52,\n",
       " ('incompet', 1): 91,\n",
       " ('guard', 1): 108,\n",
       " ('manag', 1): 557,\n",
       " ('getaway', 1): 11,\n",
       " ('car', 1): 785,\n",
       " ('damag', 1): 86,\n",
       " ('leav', 1): 825,\n",
       " ('strand', 1): 65,\n",
       " ('middl', 1): 435,\n",
       " ('desert', 1): 229,\n",
       " ('decid', 1): 838,\n",
       " ('head', 1): 958,\n",
       " ('nearest', 1): 19,\n",
       " ('town', 1): 551,\n",
       " ('sever', 1): 624,\n",
       " ('mile', 1): 166,\n",
       " ('away', 1): 1118,\n",
       " ('take', 1): 2550,\n",
       " ('cop', 1): 485,\n",
       " ('hostag', 1): 55,\n",
       " ('reach', 1): 189,\n",
       " ('odd', 1): 324,\n",
       " ('singl', 1): 415,\n",
       " ('sight', 1): 136,\n",
       " ('soon', 1): 400,\n",
       " ('entir', 1): 880,\n",
       " ('kill', 1): 1862,\n",
       " ('flesh', 1): 152,\n",
       " ('eat', 1): 317,\n",
       " ('alien', 1): 504,\n",
       " ('firm', 1): 46,\n",
       " ('menu', 1): 20,\n",
       " ('also', 1): 2965,\n",
       " ('known', 1): 353,\n",
       " ('invas', 1): 39,\n",
       " ('us', 1): 1206,\n",
       " ('dvd', 1): 767,\n",
       " ('work', 1): 2583,\n",
       " ('titl', 1): 768,\n",
       " ('terror', 1): 120,\n",
       " ('rubbishi', 1): 7,\n",
       " ('low', 1): 1095,\n",
       " ('budget', 1): 1161,\n",
       " ('sci', 1): 276,\n",
       " ('fi', 1): 277,\n",
       " ('horror', 1): 1793,\n",
       " ('flick', 1): 827,\n",
       " ('co', 1): 243,\n",
       " ('written', 1): 599,\n",
       " ('produc', 1): 897,\n",
       " ('dustin', 1): 9,\n",
       " ('rikert', 1): 1,\n",
       " ('real', 1): 1691,\n",
       " ('redeem', 1): 310,\n",
       " ('featur', 1): 735,\n",
       " ('frank', 1): 243,\n",
       " ('name', 1): 1288,\n",
       " ('rough', 1): 82,\n",
       " ('divid', 1): 28,\n",
       " ('open', 1): 878,\n",
       " ('forti', 1): 53,\n",
       " ('fifti', 1): 70,\n",
       " ('focus', 1): 337,\n",
       " ('thriller', 1): 382,\n",
       " ('escap', 1): 322,\n",
       " ('although', 1): 769,\n",
       " ('poor', 1): 1737,\n",
       " ('stage', 1): 334,\n",
       " ('stuff', 1): 525,\n",
       " ('unintent', 1): 148,\n",
       " ('funni', 1): 1810,\n",
       " ('fit', 1): 311,\n",
       " ('chat', 1): 22,\n",
       " ('unfortun', 1): 812,\n",
       " ('suppos', 1): 1284,\n",
       " ('con', 1): 68,\n",
       " ('arriv', 1): 193,\n",
       " ('goe', 1): 952,\n",
       " ('mode', 1): 24,\n",
       " ('start', 1): 1825,\n",
       " ('clich', 1): 663,\n",
       " ('annoy', 1): 738,\n",
       " ('whole', 1): 1432,\n",
       " ('bother', 1): 400,\n",
       " ('trust', 1): 155,\n",
       " ('level', 1): 498,\n",
       " ('well', 1): 3462,\n",
       " ('piec', 1): 914,\n",
       " ('shown', 1): 345,\n",
       " ('sometim', 1): 367,\n",
       " ('difficult', 1): 242,\n",
       " ('happen', 1): 1616,\n",
       " ('special', 1): 991,\n",
       " ('effect', 1): 1613,\n",
       " ('rubbish', 1): 195,\n",
       " ('cgi', 1): 205,\n",
       " ('comput', 1): 288,\n",
       " ('cheap', 1): 622,\n",
       " ('eyesor', 1): 3,\n",
       " ('bit', 1): 1194,\n",
       " ('gore', 1): 573,\n",
       " ('gunshot', 1): 17,\n",
       " ('wound', 1): 102,\n",
       " ('hand', 1): 882,\n",
       " ('seen', 1): 2586,\n",
       " ('obvious', 1): 1134,\n",
       " ('shot', 1): 1302,\n",
       " ('product', 1): 1017,\n",
       " ('valu', 1): 506,\n",
       " ('superior', 1): 120,\n",
       " ('heard', 1): 442,\n",
       " ('actress', 1): 613,\n",
       " ('femal', 1): 520,\n",
       " ('doctor', 1): 330,\n",
       " ('way', 1): 3374,\n",
       " ('worth', 1): 886,\n",
       " ('mine', 1): 136,\n",
       " ('els', 1): 1002,\n",
       " ('burt', 1): 78,\n",
       " ('lancast', 1): 12,\n",
       " ('allow', 1): 409,\n",
       " ('schnook', 1): 4,\n",
       " ('ultim', 1): 220,\n",
       " ('undermin', 1): 53,\n",
       " ('femm', 1): 33,\n",
       " ('fatal', 1): 75,\n",
       " ('anna', 1): 96,\n",
       " ('dunde', 1): 48,\n",
       " ('yvonn', 1): 4,\n",
       " ('decarlo', 1): 5,\n",
       " ('criss', 1): 22,\n",
       " ('cross', 1): 226,\n",
       " ('mitchum', 1): 22,\n",
       " ('cast', 1): 1700,\n",
       " ('loser', 1): 95,\n",
       " ('fall', 1): 802,\n",
       " ('faith', 1): 135,\n",
       " ('domergu', 1): 14,\n",
       " ('noir', 1): 76,\n",
       " ('danger', 1): 185,\n",
       " ('live', 1): 1362,\n",
       " ('perhap', 1): 660,\n",
       " ('show', 1): 3432,\n",
       " ('rang', 1): 110,\n",
       " ('type', 1): 600,\n",
       " ('tough', 1): 165,\n",
       " ('enhanc', 1): 46,\n",
       " ('imag', 1): 317,\n",
       " ('problem', 1): 1054,\n",
       " ('steve', 1): 235,\n",
       " ('thompson', 1): 51,\n",
       " ('pathet', 1): 349,\n",
       " ('love', 1): 2308,\n",
       " ('sick', 1): 296,\n",
       " ('milquetoast', 1): 4,\n",
       " ('career', 1): 418,\n",
       " ('miscast', 1): 108,\n",
       " ('note', 1): 351,\n",
       " ('inher', 1): 29,\n",
       " ('unlik', 1): 332,\n",
       " ('may', 1): 1159,\n",
       " ('protagonist', 1): 181,\n",
       " ('intermin', 1): 29,\n",
       " ('slow', 1): 539,\n",
       " ('move', 1): 806,\n",
       " ('among', 1): 232,\n",
       " ('unnecessari', 1): 129,\n",
       " ('begin', 1): 1152,\n",
       " ('flashback', 1): 206,\n",
       " ('chronicl', 1): 26,\n",
       " ('confront', 1): 85,\n",
       " ('dan', 1): 78,\n",
       " ('duryea', 1): 3,\n",
       " ('nightclub', 1): 18,\n",
       " ('everyth', 1): 958,\n",
       " ('occur', 1): 160,\n",
       " ('initi', 1): 129,\n",
       " ('illicit', 1): 9,\n",
       " ('affair', 1): 187,\n",
       " ('strain', 1): 64,\n",
       " ('relationship', 1): 297,\n",
       " ('martinez', 1): 18,\n",
       " ('blood', 1): 528,\n",
       " ('siodmark', 1): 3,\n",
       " ('compel', 1): 153,\n",
       " ('awhil', 1): 54,\n",
       " ('commit', 1): 211,\n",
       " ('step', 1): 180,\n",
       " ('ordinari', 1): 106,\n",
       " ('world', 1): 1082,\n",
       " ('pass', 1): 382,\n",
       " ('notic', 1): 354,\n",
       " ('siodmak', 1): 4,\n",
       " ('spend', 1): 420,\n",
       " ('cut', 1): 728,\n",
       " ('back', 1): 1955,\n",
       " ('forth', 1): 68,\n",
       " ('stare', 1): 118,\n",
       " ('addit', 1): 197,\n",
       " ('deal', 1): 518,\n",
       " ('esi', 1): 3,\n",
       " ('moral', 1): 243,\n",
       " ('rhumba', 1): 3,\n",
       " ('band', 1): 242,\n",
       " ('stori', 1): 4447,\n",
       " ('crisi', 1): 52,\n",
       " ('plod', 1): 60,\n",
       " ('various', 1): 216,\n",
       " ('uneasi', 1): 18,\n",
       " ('encount', 1): 132,\n",
       " ('drown', 1): 59,\n",
       " ('sorrow', 1): 10,\n",
       " ('water', 1): 296,\n",
       " ('hole', 1): 325,\n",
       " ('midpoint', 1): 3,\n",
       " ('learn', 1): 464,\n",
       " ('marri', 1): 261,\n",
       " ('becom', 1): 1057,\n",
       " ('clear', 1): 731,\n",
       " ('central', 1): 159,\n",
       " ('throughout', 1): 520,\n",
       " ('second', 1): 1009,\n",
       " ('rather', 1): 1114,\n",
       " ('unexcit', 1): 18,\n",
       " ('machin', 1): 176,\n",
       " ('lovebird', 1): 6,\n",
       " ('disappear', 1): 172,\n",
       " ('eight', 1): 58,\n",
       " ('pressur', 1): 38,\n",
       " ('mother', 1): 558,\n",
       " ('threat', 1): 64,\n",
       " ('impli', 1): 72,\n",
       " ('women', 1): 795,\n",
       " ('hous', 1): 838,\n",
       " ('detent', 1): 16,\n",
       " ('big', 1): 1339,\n",
       " ('mistak', 1): 315,\n",
       " ('scare', 1): 328,\n",
       " ('silli', 1): 558,\n",
       " ('refrain', 1): 13,\n",
       " ('utter', 1): 400,\n",
       " ('hijack', 1): 30,\n",
       " ('armor', 1): 47,\n",
       " ('everyon', 1): 801,\n",
       " ('done', 1): 1215,\n",
       " ('insid', 1): 244,\n",
       " ('job', 1): 694,\n",
       " ('profess', 1): 54,\n",
       " ('proposit', 1): 9,\n",
       " ('beforehand', 1): 29,\n",
       " ('propos', 1): 31,\n",
       " ('afraid', 1): 151,\n",
       " ('caught', 1): 174,\n",
       " ('meet', 1): 518,\n",
       " ('apart', 1): 352,\n",
       " ('easili', 1): 277,\n",
       " ('kick', 1): 250,\n",
       " ('finchley', 1): 6,\n",
       " ('alan', 1): 63,\n",
       " ('napier', 1): 6,\n",
       " ('brain', 1): 308,\n",
       " ('oper', 1): 109,\n",
       " ('dumb', 1): 493,\n",
       " ('hire', 1): 199,\n",
       " ('alcohol', 1): 81,\n",
       " ('ex', 1): 193,\n",
       " ('professor', 1): 82,\n",
       " ('heist', 1): 69,\n",
       " ('map', 1): 39,\n",
       " ('procur', 1): 5,\n",
       " ('ingredi', 1): 51,\n",
       " ('construct', 1): 103,\n",
       " ('gas', 1): 76,\n",
       " ('bomb', 1): 233,\n",
       " ('use', 1): 2144,\n",
       " ('robberi', 1): 44,\n",
       " ('depict', 1): 200,\n",
       " ('rise', 1): 144,\n",
       " ('gone', 1): 337,\n",
       " ('brutal', 1): 149,\n",
       " ('gang', 1): 210,\n",
       " ('relief', 1): 103,\n",
       " ('murder', 1): 731,\n",
       " ('innoc', 1): 159,\n",
       " ('climax', 1): 167,\n",
       " ('drawn', 1): 146,\n",
       " ('rest', 1): 801,\n",
       " ('long', 1): 1373,\n",
       " ('goon', 1): 22,\n",
       " ('kidnap', 1): 141,\n",
       " ('nurs', 1): 81,\n",
       " ('outsid', 1): 250,\n",
       " ('come', 1): 2551,\n",
       " ('pretend', 1): 114,\n",
       " ('asleep', 1): 96,\n",
       " ('final', 1): 1217,\n",
       " ('awak', 1): 55,\n",
       " ('cash', 1): 148,\n",
       " ('somehow', 1): 356,\n",
       " ('steal', 1): 246,\n",
       " ('dinner', 1): 68,\n",
       " ('evil', 1): 676,\n",
       " ('blue', 1): 188,\n",
       " ('selfish', 1): 46,\n",
       " ('attract', 1): 309,\n",
       " ('perceiv', 1): 24,\n",
       " ('reject', 1): 85,\n",
       " ('fear', 1): 205,\n",
       " ('inexplic', 1): 77,\n",
       " ('vulner', 1): 19,\n",
       " ('instant', 1): 81,\n",
       " ('coffe', 1): 61,\n",
       " ('encycloped', 1): 3,\n",
       " ('refer', 1): 302,\n",
       " ('american', 1): 982,\n",
       " ('style', 1): 593,\n",
       " ('silver', 1): 66,\n",
       " ('ward', 1): 36,\n",
       " ('author', 1): 180,\n",
       " ('hail', 1): 22,\n",
       " ('tragic', 1): 89,\n",
       " ('beg', 1): 84,\n",
       " ('order', 1): 483,\n",
       " ('tragedi', 1): 81,\n",
       " ('depth', 1): 236,\n",
       " ('plausibl', 1): 66,\n",
       " ('neither', 1): 295,\n",
       " ('overr', 1): 45,\n",
       " ('pantheon', 1): 8,\n",
       " ('art', 1): 514,\n",
       " ('herd', 1): 15,\n",
       " ('triumph', 1): 26,\n",
       " ('evalu', 1): 17,\n",
       " ('yesteryear', 1): 7,\n",
       " ('german', 1): 248,\n",
       " ('smirk', 1): 27,\n",
       " ('mumbl', 1): 35,\n",
       " ('sexi', 1): 165,\n",
       " ('english', 1): 339,\n",
       " ('eye', 1): 775,\n",
       " ('whenev', 1): 120,\n",
       " ('fill', 1): 390,\n",
       " ('close', 1): 699,\n",
       " ('housewif', 1): 12,\n",
       " ('hack', 1): 84,\n",
       " ('corpor', 1): 59,\n",
       " ('mainfram', 1): 6,\n",
       " ('tale', 1): 267,\n",
       " ('defraud', 1): 1,\n",
       " ('bank', 1): 129,\n",
       " ('tap', 1): 53,\n",
       " ('random', 1): 291,\n",
       " ('key', 1): 177,\n",
       " ('home', 1): 614,\n",
       " ('pc', 1): 26,\n",
       " ('power', 1): 601,\n",
       " ('socket', 1): 11,\n",
       " ('larg', 1): 261,\n",
       " ('lead', 1): 1036,\n",
       " ('ladi', 1): 387,\n",
       " ('famili', 1): 870,\n",
       " ('sit', 1): 648,\n",
       " ('front', 1): 258,\n",
       " ('televis', 1): 344,\n",
       " ('chant', 1): 16,\n",
       " ('toneless', 1): 1,\n",
       " ('advert', 1): 8,\n",
       " ('line', 1): 1519,\n",
       " ('longer', 1): 155,\n",
       " ('tart', 1): 12,\n",
       " ('illustr', 1): 54,\n",
       " ('old', 1): 1749,\n",
       " ('yogi', 1): 2,\n",
       " ('berra', 1): 1,\n",
       " ('someplac', 1): 6,\n",
       " ('writer', 1): 850,\n",
       " ('christina', 1): 30,\n",
       " ('million', 1): 276,\n",
       " ('age', 1): 552,\n",
       " ('devoid', 1): 60,\n",
       " ('black', 1): 871,\n",
       " ('without', 1): 1266,\n",
       " ('humor', 1): 538,\n",
       " ('sexploit', 1): 11,\n",
       " ('anyth', 1): 1523,\n",
       " ('particular', 1): 697,\n",
       " ('standard', 1): 360,\n",
       " ('swain', 1): 17,\n",
       " ('employ', 1): 86,\n",
       " ('compet', 1): 108,\n",
       " ('experienc', 1): 94,\n",
       " ('design', 1): 294,\n",
       " ('provid', 1): 326,\n",
       " ('barton', 1): 13,\n",
       " ('bubbl', 1): 40,\n",
       " ('bath', 1): 76,\n",
       " ('togeth', 1): 766,\n",
       " ('park', 1): 207,\n",
       " ('montag', 1): 50,\n",
       " ('alic', 1): 56,\n",
       " ('wonderland', 1): 10,\n",
       " ('sculptur', 1): 11,\n",
       " ('symbol', 1): 89,\n",
       " ('incorpor', 1): 24,\n",
       " ('element', 1): 407,\n",
       " ('support', 1): 395,\n",
       " ('despit', 1): 510,\n",
       " ('absenc', 1): 39,\n",
       " ('linear', 1): 15,\n",
       " ('logic', 1): 185,\n",
       " ('uniti', 1): 1,\n",
       " ('tone', 1): 188,\n",
       " ('visionari', 1): 9,\n",
       " ('aspir', 1): 50,\n",
       " ('qualiti', 1): 618,\n",
       " ('fusion', 1): 4,\n",
       " ('expressionist', 1): 4,\n",
       " ('metropolitan', 1): 11,\n",
       " ('camp', 1): 220,\n",
       " ('cruel', 1): 83,\n",
       " ('intent', 1): 306,\n",
       " ('manhattan', 1): 48,\n",
       " ('upper', 1): 47,\n",
       " ('class', 1): 400,\n",
       " ('camera', 1): 979,\n",
       " ('frame', 1): 181,\n",
       " ('window', 1): 154,\n",
       " ('door', 1): 262,\n",
       " ('tight', 1): 81,\n",
       " ('former', 1): 177,\n",
       " ('techniqu', 1): 89,\n",
       " ('hint', 1): 137,\n",
       " ('latter', 1): 131,\n",
       " ('distanc', 1): 58,\n",
       " ('motiv', 1): 236,\n",
       " ('verg', 1): 20,\n",
       " ('veer', 1): 9,\n",
       " ('territori', 1): 59,\n",
       " ('twice', 1): 131,\n",
       " ('advis', 1): 101,\n",
       " ('dump', 1): 90,\n",
       " ('deceas', 1): 22,\n",
       " ('garbag', 1): 325,\n",
       " ('chute', 1): 2,\n",
       " ('father', 1): 658,\n",
       " ('jewish', 1): 72,\n",
       " ('joel', 1): 42,\n",
       " ('grey', 1): 46,\n",
       " ('guerrilla', 1): 8,\n",
       " ('cabaret', 1): 9,\n",
       " ('overwhelm', 1): 48,\n",
       " ('insert', 1): 76,\n",
       " ('sceneri', 1): 186,\n",
       " ('chew', 1): 59,\n",
       " ('abil', 1): 214,\n",
       " ('restrain', 1): 21,\n",
       " ('clue', 1): 151,\n",
       " ('physic', 1): 189,\n",
       " ('deterior', 1): 30,\n",
       " ('willowi', 1): 2,\n",
       " ('super', 1): 261,\n",
       " ('girl', 1): 1662,\n",
       " ('hulk', 1): 57,\n",
       " ('lumpi', 1): 2,\n",
       " ('pumpkin', 1): 8,\n",
       " ('transform', 1): 115,\n",
       " ('ravag', 1): 8,\n",
       " ('mischa', 1): 3,\n",
       " ('sixth', 1): 25,\n",
       " ('lacey', 1): 2,\n",
       " ('chabet', 1): 1,\n",
       " ('excel', 1): 320,\n",
       " ('simpli', 1): 859,\n",
       " ('horribl', 1): 1094,\n",
       " ('blame', 1): 213,\n",
       " ('book', 1): 1282,\n",
       " ('laud', 1): 4,\n",
       " ('masterpiec', 1): 152,\n",
       " ('disjoint', 1): 59,\n",
       " ('readabl', 1): 1,\n",
       " ('fant', 1): 2,\n",
       " ('dread', 1): 218,\n",
       " ('effort', 1): 537,\n",
       " ('los', 1): 66,\n",
       " ('angel', 1): 201,\n",
       " ('publish', 1): 20,\n",
       " ('becam', 1): 231,\n",
       " ('fashion', 1): 207,\n",
       " ('mid', 1): 137,\n",
       " ('intrigu', 1): 192,\n",
       " ('soup', 1): 15,\n",
       " ('meager', 1): 4,\n",
       " ('hard', 1): 1412,\n",
       " ('wise', 1): 148,\n",
       " ('repair', 1): 23,\n",
       " ('shortcom', 1): 39,\n",
       " ('rescu', 1): 133,\n",
       " ('ask', 1): 687,\n",
       " ('dust', 1): 52,\n",
       " ('stay', 1): 496,\n",
       " ('folli', 1): 4,\n",
       " ('forgett', 1): 154,\n",
       " ('earth', 1): 334,\n",
       " ('dear', 1): 68,\n",
       " ('ramu', 1): 11,\n",
       " ('man', 1): 2036,\n",
       " ('satya', 1): 1,\n",
       " ('comapni', 1): 1,\n",
       " ('refus', 1): 107,\n",
       " ('believ', 1): 1583,\n",
       " ('aag', 1): 14,\n",
       " ('ambiti', 1): 50,\n",
       " ('project', 1): 376,\n",
       " ('jump', 1): 257,\n",
       " ('cliff', 1): 55,\n",
       " ('ascend', 1): 7,\n",
       " ('industri', 1): 189,\n",
       " ('brick', 1): 15,\n",
       " ('cring', 1): 91,\n",
       " ('theater', 1): 401,\n",
       " ('abl', 1): 470,\n",
       " ('other', 1): 542,\n",
       " ('interv', 1): 15,\n",
       " ('nowher', 1): 216,\n",
       " ('near', 1): 623,\n",
       " ('within', 1): 342,\n",
       " ('sure', 1): 1287,\n",
       " ...}"
      ]
     },
     "execution_count": 393,
     "metadata": {},
     "output_type": "execute_result"
    }
   ],
   "source": [
    "## Run this cell to get an idea about the corpus of words and their occurrence along with labels. \n",
    "## In this, we are computing the frequency of occurrence of word given that a review is 'positive'.\n",
    "## Similarly, we also compute the frequence of occurence of word given that a review is 'negative'.\n",
    "freqs"
   ]
  },
  {
   "cell_type": "markdown",
   "id": "759c24bc",
   "metadata": {
    "id": "759c24bc"
   },
   "source": [
    "## Q4. Training the Naive Bayes Model: (20 points)\n",
    "\n",
    "Now we are in the training phase of the Naive Bayes algorithm. In this cell, take a look at the ways to calculate the log likelihood and log prior values as these are important for testing in the next few cells. \n",
    "\n",
    "Also calculate the frequency of occurrence of words where the output is negative. In the same way, calculate the word frequency count using the above functions in order to compute the log likelihood.\n",
    "\n",
    "Return the logprior and loglikelihood output by the model from this function. "
   ]
  },
  {
   "cell_type": "code",
   "execution_count": 394,
   "id": "a7f280e3",
   "metadata": {
    "id": "a7f280e3"
   },
   "outputs": [],
   "source": [
    "def train_naive_bayes(freqs, train_x, train_y):\n",
    "    '''\n",
    "    Input:\n",
    "        freqs: dictionary from (word, label) to how often the word appears\n",
    "        train_x: a list of reviews\n",
    "        train_y: a list of labels correponding to the reviews (0,1)\n",
    "    Output:\n",
    "        logprior: the log prior. (equation 3 above)\n",
    "        loglikelihood: the log likelihood of you Naive bayes equation. (equation 6 above)\n",
    "    '''\n",
    "    loglikelihood = {}\n",
    "    logprior = 0\n",
    "\n",
    "\n",
    "    # calculate V, the number of unique words in the vocabulary\n",
    "    vocab = []\n",
    "    for wordPair in freqs.keys():\n",
    "        if wordPair[0] not in vocab :\n",
    "            vocab.append(wordPair[0])\n",
    "            \n",
    "    V = len(vocab)\n",
    "    \n",
    "    \n",
    "\n",
    "    # calculate num_pos and num_neg - the total number of positive and negative words for all documents\n",
    "    num_pos = num_neg = 0\n",
    "    #for pair in frequency_dict.keys():\n",
    "    for pair in freqs.keys():\n",
    "        # if the label is zero.\n",
    "        if pair[1] == 0:\n",
    "\n",
    "            # Increment the number of positive words by the count for this (word, label) pair\n",
    "            num_pos = num_pos + freqs.get(pair);\n",
    "        # else, the label is negative\n",
    "        else:\n",
    "            # increment the number of negative words by the count for this (word,label) pair\n",
    "            num_neg = num_neg + freqs.get(pair);\n",
    "\n",
    "    # Calculate num_doc, the number of documents\n",
    "    num_doc = train_x['sentiment'].value_counts()\n",
    "\n",
    "    # Calculate D_pos, the number of positive documents \n",
    "    pos_num_docs = len(train_y[train_y['sentiment'] == 0])\n",
    "\n",
    "    # Calculate D_neg, the number of negative documents \n",
    "    neg_num_docs = len(train_y[train_y['sentiment'] == 1])\n",
    "    # Calculate logprior\n",
    "    logprior = math.log(neg_num_docs) - math.log(pos_num_docs)\n",
    "\n",
    "    # For each word in the vocabulary...\n",
    "    for word in vocab:\n",
    "        # get the positive and negative frequency of the word\n",
    "        target_tuple_positive = (word, 0)\n",
    "        target_tuple_negative = (word, 1) \n",
    "        freq_pos = freqs.get(target_tuple_positive)\n",
    "        if(freq_pos is None):\n",
    "#             print(freqs.get(target_tuple_positive))\n",
    "            freq_pos = 0;\n",
    "        freq_neg = freqs.get(target_tuple_negative)\n",
    "        if(freq_neg is None):\n",
    "#             print(freqs.get(target_tuple_negative))\n",
    "            freq_neg = 0;\n",
    "\n",
    "        # calculate the probability that each word is positive, and negative\n",
    "        p_w_pos = (freq_pos + 1) / (num_pos + V)\n",
    "        p_w_neg = (freq_neg + 1) / (num_neg + V)\n",
    "        \n",
    "        # calculate the log likelihood of the word\n",
    "        loglikelihood[word] = math.log((p_w_neg/p_w_pos))\n",
    "    \n",
    "    return logprior, loglikelihood"
   ]
  },
  {
   "cell_type": "code",
   "execution_count": 395,
   "id": "1561d892",
   "metadata": {
    "id": "1561d892"
   },
   "outputs": [
    {
     "name": "stdout",
     "output_type": "stream",
     "text": [
      "0.0\n",
      "43781\n"
     ]
    }
   ],
   "source": [
    "# You do not have to input any code in this cell, but it is relevant to grading, so please do not change anything\n",
    "logprior, loglikelihood = train_naive_bayes(freqs, X_train, y_train)\n",
    "with open('naive_bayes_model_parameters.pkl', 'wb') as f:\n",
    "    pickle.dump( train_naive_bayes(freqs, X_train, y_train), f)\n",
    "print(logprior)\n",
    "print(len(loglikelihood))"
   ]
  },
  {
   "cell_type": "markdown",
   "id": "19d9c882",
   "metadata": {
    "id": "19d9c882"
   },
   "source": [
    "### Expected Output \n",
    "\n",
    "0.0 <br>\n",
    "91425"
   ]
  },
  {
   "cell_type": "markdown",
   "id": "78b51303",
   "metadata": {
    "id": "78b51303"
   },
   "source": [
    "## Q5. Implementing Naive Bayes Predict Function: (10 points)\n",
    "\n",
    "It is now time to make our prediction as to whether a given review is negative or positive respectively. \n",
    "\n",
    "After adding the log likelihood values, ensure that the output is 1 (negative) if the sum of the log likelihood value is greater than 0 and 0 (positive) if the sum of the log likelihood is less than or equal to 0. "
   ]
  },
  {
   "cell_type": "code",
   "execution_count": 396,
   "id": "b692c2f9",
   "metadata": {
    "id": "b692c2f9"
   },
   "outputs": [],
   "source": [
    "# TASK 4 CELL\n",
    "\n",
    "def naive_bayes_predict(review, logprior, loglikelihood):\n",
    "    '''\n",
    "    Params:\n",
    "        review: a string\n",
    "        logprior: a number\n",
    "        loglikelihood: a dictionary of words mapping to numbers\n",
    "    Return:\n",
    "        total_prob: the sum of all the loglikelihoods of each word in the review (if found in the dictionary) + logprior (a number)\n",
    "\n",
    "    '''\n",
    "    \n",
    "    \n",
    "      # process the review to get a list of words\n",
    "    word_l = clean_review(review)\n",
    "\n",
    "    # initialize probability to zero\n",
    "    total_prob = 0\n",
    "    prediction = 0\n",
    "\n",
    "    # add the logprior\n",
    "    total_prob = total_prob + logprior\n",
    "    \n",
    "\n",
    "    for word in word_l:\n",
    "\n",
    "        # check if the word exists in the loglikelihood dictionary\n",
    "        if (word in loglikelihood):\n",
    "            # add the log likelihood of that word to the probability\n",
    "            total_prob = total_prob + loglikelihood[word]\n",
    "                   \n",
    "    if(total_prob > 0.0):\n",
    "        prediction = 1\n",
    "    if(total_prob <= 0.0):\n",
    "        prediction = 0\n",
    "\n",
    "    return total_prob,prediction\n",
    "\n",
    "\n"
   ]
  },
  {
   "cell_type": "code",
   "execution_count": 397,
   "id": "4b170333",
   "metadata": {
    "colab": {
     "base_uri": "https://localhost:8080/"
    },
    "id": "4b170333",
    "outputId": "0cf6bc90-90e8-4dee-bf95-7eaf39dce147"
   },
   "outputs": [
    {
     "name": "stdout",
     "output_type": "stream",
     "text": [
      "The expected output is 1\n"
     ]
    }
   ],
   "source": [
    "# You do not have to input any code in this cell, but it is relevant to grading, so please do not change anything\n",
    "\n",
    "# Experiment with your own review.\n",
    "my_review = \"I thought this series was going to be another fun, action series with some dynamic plots and great performances. I was wrong. While I like Jamie Denton, this show is hardly worth watching at all, unless you enjoy watching some people brutalized and the actions of the agents supposedly warranted under the theme of national security. The show is great propaganda for the current government, and spews out jingoism as though we talk that way every day. After a couple of episodes, it was boring the hell out of me, and I started watching reruns of House Invaders on BBCAmerica instead. Rather watch CSI and Without a Trace, without a doubt.\"\n",
    "probability,p = naive_bayes_predict(my_review, logprior, loglikelihood)\n",
    "print('The expected output is', p)"
   ]
  },
  {
   "cell_type": "markdown",
   "id": "6242708f",
   "metadata": {
    "id": "6242708f"
   },
   "source": [
    "### Expected Output :\n",
    "The expected output is 1"
   ]
  },
  {
   "cell_type": "markdown",
   "id": "7c4eeb71",
   "metadata": {
    "id": "7c4eeb71"
   },
   "source": [
    "## Q6. Implementing Naive Bayes Test function: (10 points)\n",
    "\n",
    "In this function, implement the previous functions such as naive_bayes_predict to get the predictions for the test set. \n",
    "\n",
    "In addition to this, the function should return the total number of reviews that it correctly classified as 'positive' or 'negative'. "
   ]
  },
  {
   "cell_type": "code",
   "execution_count": 398,
   "id": "66a511e7",
   "metadata": {
    "id": "66a511e7"
   },
   "outputs": [],
   "source": [
    "# UNQ_C6 (UNIQUE CELL IDENTIFIER, DO NOT EDIT)\n",
    "def test_naive_bayes(test_x, test_y, logprior, loglikelihood):\n",
    "    \"\"\"\n",
    "    Input:\n",
    "        test_x: A list of reviews\n",
    "        test_y: the corresponding labels for the list of reviews\n",
    "        logprior: the logprior\n",
    "        loglikelihood: a dictionary with the loglikelihoods for each word\n",
    "    Output:\n",
    "        accuracy: (# of reviews classified correctly)/(total # of reviews)\n",
    "    \"\"\"\n",
    "    accuracy = 0  \n",
    "    \n",
    "    \n",
    "    y_hats = []\n",
    "    for review in test_x:\n",
    "        # if the prediction is > 0\n",
    "        total_probability, prediction = naive_bayes_predict(review, logprior, loglikelihood)\n",
    "        #if None:\n",
    "        if (total_probability > 0.0):\n",
    "            # the predicted class is 1\n",
    "            y_hat_i = 1\n",
    "        else:\n",
    "            # otherwise the predicted class is 0\n",
    "            y_hat_i = 0\n",
    "\n",
    "        # append the predicted class to the list y_hats\n",
    "        y_hats.append(y_hat_i)\n",
    "\n",
    "    # error is the average of the absolute values of the differences between y_hats and test_y\n",
    "    total_difference = 0\n",
    "#     print(y_hats)\n",
    "#     print(test_y)\n",
    "    \n",
    "    for idx, x in enumerate(test_y):\n",
    "        total_difference = total_difference + abs(y_hats[idx] - x)\n",
    "    error = total_difference / len(y_hats)\n",
    "    accuracy = 1 - error\n",
    "\n",
    "    return accuracy,y_hats\n"
   ]
  },
  {
   "cell_type": "code",
   "execution_count": 399,
   "id": "8a9c5d9d",
   "metadata": {
    "id": "8a9c5d9d"
   },
   "outputs": [
    {
     "name": "stdout",
     "output_type": "stream",
     "text": [
      "If you like original gut wrenching laughter you will like this movie. If you are young or old then y -> 0.00\n",
      "What a waste of talent. A very poor, semi-coherent, script cripples this film. Rather unimaginative  -> 1.00\n",
      "I have seen this film at least 100 times and I am still excited by it, the acting is perfect and the -> 0.00\n",
      "Cheap, amateurish, unimaginative, exploitative... but don't think it'll have redeeming amusement val -> 1.00\n"
     ]
    }
   ],
   "source": [
    "# For grading purpose only\n",
    "# You do not have to input any code in this cell, but it is relevant to grading, so please do not change anything\n",
    "\n",
    "# Run this cell to test your function\n",
    "\n",
    "for review in [\"If you like original gut wrenching laughter you will like this movie. If you are young or old then you will love this movie, hell even my mom liked it.<br /><br />Great Camp!!!\",\n",
    "                \"What a waste of talent. A very poor, semi-coherent, script cripples this film. Rather unimaginative direction, too. Some VERY faint echoes of Fargo here, but it just doesn't come off.\",\n",
    "                \"I have seen this film at least 100 times and I am still excited by it, the acting is perfect and the romance between Joe and Jean keeps me on the edge of my seat, plus I still think Bryan Brown is the tops. Brilliant Film.\",\n",
    "                \"Cheap, amateurish, unimaginative, exploitative... but don't think it'll have redeeming amusement value. About as unentertaining, uninstructive and just plain dull as a film can be.\"]:\n",
    "    probability,p = naive_bayes_predict(review, logprior, loglikelihood)\n",
    "    print(f'{review[:100]} -> {p:.2f}')\n",
    "    "
   ]
  },
  {
   "cell_type": "markdown",
   "id": "43e2ef98",
   "metadata": {
    "id": "43e2ef98"
   },
   "source": [
    "### Expected Output :\n",
    "\n",
    "If you like original gut wrenching laughter you will like this movie. If you are young or old then y -> 0.00 <br>\n",
    "What a waste of talent. A very poor, semi-coherent, script cripples this film. Rather unimaginative  -> 1.00<br>\n",
    "I have seen this film at least 100 times and I am still excited by it, the acting is perfect and the -> 0.00 <br>\n",
    "Cheap, amateurish, unimaginative, exploitative... but don't think it'll have redeeming amusement val -> 1.00\n",
    "\n"
   ]
  },
  {
   "cell_type": "code",
   "execution_count": 400,
   "id": "216fa97a",
   "metadata": {
    "colab": {
     "base_uri": "https://localhost:8080/"
    },
    "id": "216fa97a",
    "outputId": "9d1f21c7-b324-43c2-e841-269c0306cbb4"
   },
   "outputs": [
    {
     "data": {
      "text/plain": [
       "(1.7483183391476693, 1)"
      ]
     },
     "execution_count": 400,
     "metadata": {},
     "output_type": "execute_result"
    }
   ],
   "source": [
    "# Feel free to check the sentiment of your own review below\n",
    "my_review = 'The moview was very boring, I wanted to leave in the middle'\n",
    "naive_bayes_predict(my_review, logprior, loglikelihood)"
   ]
  },
  {
   "cell_type": "markdown",
   "id": "8a45e4f0",
   "metadata": {
    "id": "8a45e4f0"
   },
   "source": [
    "### Expected Output :\n",
    "1"
   ]
  },
  {
   "cell_type": "markdown",
   "id": "mAIkM4aCC1H7",
   "metadata": {
    "id": "mAIkM4aCC1H7"
   },
   "source": [
    "# Q7. Evaluate the accuracy (10 Points)\n",
    "1. Split your data into training and test sets using random selection. Set the seed as parameter of the function so that user can select a different training and test set by changin seed.\n",
    "\n",
    "2. Calculate model paramters with training set.\n",
    "\n",
    "3. Print confusion matrix for training and test set.\n",
    "\n",
    "4. Examine False Positive and False Negative cases and provide reasoning why they get misclassified."
   ]
  },
  {
   "cell_type": "code",
   "execution_count": 405,
   "id": "e11db6f4",
   "metadata": {},
   "outputs": [],
   "source": [
    "#Split your data into training and test sets using random selection. \n",
    "#Set the seed as parameter of the function so that user can select a \n",
    "#different training and test set by changing seed \n",
    "\n",
    "from sklearn.metrics import confusion_matrix\n",
    "from sklearn import metrics\n",
    "from sklearn.metrics import accuracy_score\n",
    "\n",
    "def evaluate_accuracy(seedValue):\n",
    "    X = df_upsampled\n",
    "    y = df_upsampled\n",
    "   \n",
    "    #Q1:Split your data into training and test sets using random selection. Set the seed as parameter of the function \n",
    "    #so that user can select a different training and test set by changin seed.\n",
    "    X_train_eval, X_test_eval, y_train_eval, y_test_eval = train_test_split(X, y, test_size=seedValue)\n",
    "    output_map = {'positive': 0, 'negative': 1}\n",
    "    y_train_eval['sentiment'] = y_train_eval['sentiment'].map(output_map)\n",
    "    y_test_eval['sentiment'] = y_test_eval['sentiment'].map(output_map)\n",
    "    \n",
    "    # accurancy evaluation for training data set\n",
    "    freqs = review_counter({}, X_train_eval['review'], y_train_eval['sentiment'])\n",
    "    #Q2:Calculate model paramters with training set.\n",
    "    logprior, loglikelihood = train_naive_bayes(freqs, X_train_eval, y_train_eval) \n",
    "    accuracy, y_train_pred = test_naive_bayes(X_train_eval['review'],y_train_eval['sentiment'], logprior, loglikelihood)\n",
    "    \n",
    "    #Q3:Print confusion matrix for training and test set.\n",
    "    print(metrics.confusion_matrix(y_train_eval['sentiment'], y_train_pred))\n",
    "    print('Accuracy is:',accuracy)\n",
    "    # evaluate predictions\n",
    "    acc = accuracy_score(y_train_eval['sentiment'], y_train_pred)\n",
    "    print('Accuracy: %.3f' % acc)\n",
    "    accuracy, y_train_pred = test_naive_bayes(X_test_eval['review'], y_test_eval['sentiment'], logprior, loglikelihood) \n",
    "    print(metrics.confusion_matrix(y_test_eval['sentiment'],  y_train_pred))\n",
    "    print('Accuracy is:', accuracy)\n",
    "    "
   ]
  },
  {
   "cell_type": "code",
   "execution_count": 406,
   "id": "a06727ae",
   "metadata": {},
   "outputs": [
    {
     "ename": "IndentationError",
     "evalue": "unexpected indent (938789749.py, line 3)",
     "output_type": "error",
     "traceback": [
      "\u001b[0;36m  Input \u001b[0;32mIn [406]\u001b[0;36m\u001b[0m\n\u001b[0;31m    False negative case:\u001b[0m\n\u001b[0m    ^\u001b[0m\n\u001b[0;31mIndentationError\u001b[0m\u001b[0;31m:\u001b[0m unexpected indent\n"
     ]
    }
   ],
   "source": [
    "#Q4:Examine False Positive and False Negative cases and provide reasoning why they get misclassified.\n",
    "    \n",
    "    False negative case:\n",
    "    Review: The movie is good.\n",
    "    Reasoning: The probability of the word \"movie\" is 0.29363059089434607 and that of \"good\" is -0.0036938593431549366.\n",
    "        When we use the word \"movie\" alone we get a probability greater than 0 leading us to get a prediction of 1.\n",
    "        But when we use the word good alone it rightfully gives a prediction of 0 i.e positive. But since the probability \n",
    "        value of the word \"movie\" is quite high we end up with a summed loglikelihood value of greater than 0 and \n",
    "        thus a negative prediction. More occurence of the word movie as part of positive review would have helped us to \n",
    "        get a better prediction.\n",
    "        \n",
    "    False positive case:\n",
    "    Review:  Some might say that it is awesome, good, mindblowing, I personally did not like it.        \n",
    "    Reasoning: Although the review is clearly negative, due to use of some positive words, our loglikelihood value summed \n",
    "        upto -1.8401437053512373 giving us a positive prediction.\n",
    "        For eg:- probability of \"awesome\" is -1.0595567113375304, probability of \"good\" is -0.0036938593431549366,\n",
    "        probability of \"mindblowing\" is -1.3657235984634144 and that of \"did not like\"  0.2066322448821285.\n",
    "        Clearly we have bigger values for positive words the total loglikelihood value is negative and thus we got a prediction \n",
    "        of false positive.\n",
    "            "
   ]
  },
  {
   "cell_type": "code",
   "execution_count": 407,
   "id": "32cf8439",
   "metadata": {},
   "outputs": [
    {
     "name": "stdout",
     "output_type": "stream",
     "text": [
      "[[8866 1131]\n",
      " [ 565 9396]]\n",
      "Accuracy is: 0.9150215452450146\n",
      "Accuracy: 0.915\n",
      "[[2118  359]\n",
      " [ 276 2237]]\n",
      "Accuracy is: 0.872745490981964\n"
     ]
    }
   ],
   "source": [
    "evaluate_accuracy(0.2)"
   ]
  },
  {
   "cell_type": "markdown",
   "id": "XbzttYVnBo7W",
   "metadata": {
    "id": "XbzttYVnBo7W"
   },
   "source": [
    "# Q8. Modularize your calssifier (10 points)\n",
    "1. Convert your code into a python module text_classifier.py\n",
    "\n",
    "2. The user should be able to launch the application on command prompt using python test_classifier.py command. The module will automatically load the model paramters from a local file of your choice and be ready to take the input from user on command prompt. The program will preprocess user input, tokenize and predict the class.\n",
    "\n",
    "3. Your module will take the input from user and output sentiment class in an indefinite loop. The output should printout the probabilities for each input token along with the final classification decision. Program will quit if user enters X.\n"
   ]
  },
  {
   "cell_type": "code",
   "execution_count": null,
   "id": "lKAQrnnbBnKe",
   "metadata": {
    "id": "lKAQrnnbBnKe"
   },
   "outputs": [],
   "source": []
  },
  {
   "cell_type": "markdown",
   "id": "82e6e4d1",
   "metadata": {
    "id": "82e6e4d1"
   },
   "source": [
    "# Q9. Theory Questions: (10 points)\n",
    "\n",
    "1. Why is Laplace Smoothing or Additive Smoothing required while executing Naive Bayes operations, especially for text classification? Show how not having additive smoothing leads to bad outcomes by using an example of training and the test set. (10 points)\n",
    "\n",
    "\n",
    "2. Why are logarithmic values computed instead of only probability values in the Naive Bayes algorithm? (5 points)"
   ]
  },
  {
   "cell_type": "code",
   "execution_count": 161,
   "id": "76a80407",
   "metadata": {},
   "outputs": [
    {
     "ename": "SyntaxError",
     "evalue": "invalid syntax (787947397.py, line 1)",
     "output_type": "error",
     "traceback": [
      "\u001b[0;36m  Input \u001b[0;32mIn [161]\u001b[0;36m\u001b[0m\n\u001b[0;31m    Essentially, in Naive Bayes, you do inference on a test sequence  𝐱=(𝑥1,𝑥2,…,𝑥𝑛)  using the following equation:\u001b[0m\n\u001b[0m                 ^\u001b[0m\n\u001b[0;31mSyntaxError\u001b[0m\u001b[0;31m:\u001b[0m invalid syntax\n"
     ]
    }
   ],
   "source": [
    "Laplace smoothing is a smoothing technique that handles the problem of zero probability in Naïve Bayes. \n",
    "Using Laplace smoothing, we can represent P(w’|positive) as\n",
    " \n",
    "    P(w’|positive) = (number of reviews with w’ and y = positive + ⍺) / (N + ⍺ * k)\n",
    "\n",
    "Here,\n",
    "alpha represents the smoothing parameter,\n",
    "K represents the number of dimensions (features) in the data, and\n",
    "N represents the number of reviews with y=positive\n",
    "If we choose a value of alpha!=0 (not equal to 0), the probability will no longer be zero even if a word is not present in the training dataset.\n",
    "\n",
    "\n",
    "If the training data has a different frequency distribution compared to the test set, the Naive Bayes classifier performs poorly. The classifier is especially affected by values not being represented in the training set.\n",
    "\n",
    "If the model comes across a categorical feature that isn’t present in the training set, the probability of 0 is assigned to that new category. This is very dangerous, \n",
    "as multiplying 0 with other features’ probabilities will result in 0. \n",
    "\n",
    "Even when we use the log probabilities, the zero observation problem exists. Because log(0) = -\\inf, and summation with \\inf will cancel out all the valid information from other features.\n",
    "\n",
    "We need to check for these cases and take action if the test data set has zero frequency issues. The most known approach is to use Laplace Smoothing. In this technique, we add a parameter to both numerator \n",
    "and denominator when calculating the class probabilities.\n",
    "\n",
    "For example, we can add a smoothing parameter (of 1) when calculating the class probabilities:\n",
    "\n",
    "  \\[P(C|A) = \\frac{P(A |C) P(C) + 1}{P(A) + 1}\\]\n",
    "\n",
    "The smoothing parameter ensures that the probability value is never zero. \n",
    "Applying a smoothing technique assigns a very small probability estimate to such zero frequency occurrences, hence, regularize the Naive Bayes classifier. \n",
    "\n",
    "\n",
    "\n",
    "Not having additive smoothing leads to bad outcomes due to the following reason:\n",
    "Essentially, in Naive Bayes, we do inference on a test sequence  𝐱=(𝑥1,𝑥2,…,𝑥𝑛)  using the following equation:\n",
    "\n",
    "𝑦𝑝𝑟𝑒𝑑=argmax𝑦𝑃(𝑦)𝑃(𝑥1|𝑦)𝑃(𝑥2|𝑦)…𝑃(𝑥𝑛|𝑦) \n",
    "\n",
    "The probabilities in the above equation are estimated from the training data, typically by simply counting the no. of occurrences of each event [which is equivalent to the maximum likelihood estimate]. Now, suppose we are solving a spam classification task using the above, and in our training data, we see the word ‘buy’ only in spam emails, and never in non-spam emails. Therefore, our estimate will tell us that  𝑃(buy|not-spam)=0 , that is, no non-spam email will contain the word ‘buy’. Now, clearly, this is not true. The probability of this event is low, but it is not zero. Further, because we are multiplying all the probabilities during inference, even one such zero probability term will lead to the entire process failing.\n",
    "\n",
    "Therefore, we need smoothing — the goal is to increase the zero probability values to a small positive number [and correspondingly reduce other values so that the sum is still 1]. Laplace smoothing is one such method.\n",
    "\n",
    "To explain Laplace smoothing without going into the math, in the above example, we will assume that we have “additional emails” in our training data — one spam email with all the English words, and one non-spam email with all the English words. This ensures that every word appears at least once in each category. So our counts change as follows:\n",
    "\n",
    "If initially, we had 20 spam emails and 80 non-spam emails, we had  𝑃(spam)=0.20  and  𝑃(not-spam)=0.80 . This now changes to 21 spam emails and 81 non-spam emails making  𝑃(spam)=0.21  and  𝑃(not-spam)=0.79 .\n",
    "Similarly, if we originally had ‘buy’ in 5 out of 20 spam emails and in no non-spam emails, we had  𝑃(buy|spam)=0.25  and  𝑃(buy|not-spam)=0 . Now, we have ‘buy’ in 6 out of 21 spam emails and in 1 out of 81 non-spam emails changing the probabilities to  𝑃(buy|spam)=0.29  and  𝑃(buy|not-spam)=0.01 .\n",
    "If we are familiar with Bayesian approach, the above is equivalent to imposing a uniform prior over our events.\n",
    "\n",
    "Finally, there is nothing specific about smoothing to Naive Bayes. Any time we use counts to estimate parameters, which can lead to zero values , we should use smoothing.\n",
    "\n",
    "\n",
    "\n"
   ]
  },
  {
   "cell_type": "code",
   "execution_count": null,
   "id": "719229cc",
   "metadata": {},
   "outputs": [],
   "source": [
    "Multiplying very small numbers will lead to even smaller numbers. It is difficult to precisely store \n",
    "and compare these very small numbers. We face these problems when working with probability values.\n",
    "\n",
    "To avoid working with very small numbers, we can work within the log probability space \n",
    "by taking the logarithm of probability values.\n",
    "\n",
    "The log function maps the probability values from [0, 1] range to the (- \\inf, 0] range. \n",
    "Thus, the log probability values will be negative.The smaller the actual probability value is, \n",
    "it’ll be mapped to a larger negative value by the log function.\n",
    "We need to remember that multiplication operation becomes an addition in the logarithm space. \n",
    "So, taking the logarithm of the whole equation gives us:\n",
    "                  m\n",
    " log (P(C_i/A)) ∝ (∑) log (P(aj/C_i))log (P(C_i))            [the predicted class C_i,]\n",
    "                  j=1                                        [A represents an observation with m attributes: [A = {a_1, a_2, ..., a_m}\\]]         \n",
    "                                                                                       \n",
    "This mapping approach works because to classify in Naive Bayes, we need to know which class has the\n",
    "largest probability rather than what the specific probability is. \n",
    "Taking the logarithm will not change the ordering of class label probability scores. \n",
    "Hence, we can still decide which class has the highest probability.\n",
    "                                                                       \n",
    "                                                                       "
   ]
  }
 ],
 "metadata": {
  "colab": {
   "collapsed_sections": [],
   "name": "CS6120_NLP_Assignment_1_Notebook.ipynb",
   "provenance": [],
   "toc_visible": true
  },
  "kernelspec": {
   "display_name": "Python 3 (ipykernel)",
   "language": "python",
   "name": "python3"
  },
  "language_info": {
   "codemirror_mode": {
    "name": "ipython",
    "version": 3
   },
   "file_extension": ".py",
   "mimetype": "text/x-python",
   "name": "python",
   "nbconvert_exporter": "python",
   "pygments_lexer": "ipython3",
   "version": "3.8.9"
  }
 },
 "nbformat": 4,
 "nbformat_minor": 5
}
